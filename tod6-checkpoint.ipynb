{
 "cells": [
  {
   "cell_type": "markdown",
   "id": "b71c96fc-ba79-468a-bb82-33b2f9df77cc",
   "metadata": {},
   "source": [
    "1\\. Загрузите данные из файла `recipes_sample.csv` (__ЛР2__) в виде `pd.DataFrame` `recipes` При помощи форматирования строк выведите информацию об id рецепта и времени выполнения 5 случайных рецептов в виде таблицы следующего вида:\n",
    "\n",
    "    \n",
    "    |      id      |  minutes  |\n",
    "    |--------------------------|\n",
    "    |    61178     |    65     |\n",
    "    |    202352    |    80     |\n",
    "    |    364322    |    150    |\n",
    "    |    26177     |    20     |\n",
    "    |    224785    |    35     |\n",
    "    \n",
    "Обратите внимание, что ширина столбцов заранее неизвестна и должна рассчитываться динамически, в зависимости от тех данных, которые были выбраны. "
   ]
  },
  {
   "cell_type": "code",
   "execution_count": 1,
   "id": "8219821f-3bd3-4e2f-8bf8-b8be26882592",
   "metadata": {},
   "outputs": [
    {
     "name": "stdout",
     "output_type": "stream",
     "text": [
      "|--------|---------|\n",
      "| id     | minutes |\n",
      "|--------|---------|\n",
      "| 74703  |   60    |\n",
      "| 169496 |   75    |\n",
      "| 321957 |   65    |\n",
      "| 48851  |   25    |\n",
      "| 291458 |   30    |\n"
     ]
    }
   ],
   "source": [
    "import pandas as pd\n",
    "\n",
    "# Шаг 1: Загрузите данные из файла\n",
    "recipes = pd.read_csv('recipes_sample.csv')\n",
    "\n",
    "# Шаг 2: Выберите 5 случайных рецептов\n",
    "random_recipes = recipes.sample(n=5)\n",
    "\n",
    "# Шаг 3: Определите максимальную ширину столбцов\n",
    "# Максимальная длина значений в столбце 'id' и название столбца 'id'\n",
    "max_id_width = max(random_recipes['id'].astype(str).apply(len).max(), len('id'))\n",
    "# Максимальная длина значений в столбце 'minutes' и название столбца 'minutes'\n",
    "max_minutes_width = max(random_recipes['minutes'].astype(str).apply(len).max(), len('minutes'))\n",
    "\n",
    "# Шаг 4: Форматирование и вывод таблицы\n",
    "# Формируем заголовок таблицы с выравниванием по ширине столбцов\n",
    "table_header = f\"| {'id':<{max_id_width}} | {'minutes':^{max_minutes_width}} |\"\n",
    "# Формируем разделитель строки таблицы\n",
    "separator = f\"|{'-' * (max_id_width + 2)}|{'-' * (max_minutes_width + 2)}|\"\n",
    "\n",
    "# Печатаем разделитель, заголовок и ещё один разделитель\n",
    "print(separator)\n",
    "print(table_header)\n",
    "print(separator)\n",
    "\n",
    "# Проходимся по случайно выбранным рецептам и печатаем каждую строку таблицы\n",
    "for _, row in random_recipes.iterrows():\n",
    "    print(f\"| {row['id']:<{max_id_width}} | {str(row['minutes']):^{max_minutes_width}} |\")"
   ]
  },
  {
   "cell_type": "markdown",
   "id": "d4267ec3-27d3-4819-b58f-694fae22de09",
   "metadata": {},
   "source": [
    "2\\. Напишите функцию `show_info`, которая по данным о рецепте создает строку (в смысле объекта python) с описанием следующего вида:\n",
    "\n",
    "```\n",
    "\"Название Из Нескольких Слов\"\n",
    "\n",
    "1. Шаг 1\n",
    "2. Шаг 2\n",
    "----------\n",
    "Автор: contributor_id\n",
    "Среднее время приготовления: minutes минут\n",
    "```\n",
    "\n",
    "    \n",
    "Данные для создания строки получите из файлов `recipes_sample.csv` (__ЛР2__) и `steps_sample.xml` (__ЛР3__). \n",
    "Вызовите данную функцию для рецепта с id `170895` и выведите (через `print`) полученную строку на экран."
   ]
  },
  {
   "cell_type": "code",
   "execution_count": null,
   "id": "15bf505b-da8e-49ad-a770-4b4a629211d8",
   "metadata": {},
   "outputs": [],
   "source": [
    "import pandas as pd\n",
    "import xml.etree.ElementTree as ET\n",
    "\n",
    "# Шаг 1: Загрузите данные из файла CSV\n",
    "# Загружаем данные рецептов из CSV файла в DataFrame\n",
    "recipes = pd.read_csv('recipes_sample.csv')\n",
    "\n",
    "# Шаг 2: Загрузите данные из файла XML\n",
    "# Загружаем данные шагов рецептов из XML файла\n",
    "tree = ET.parse('steps_sample.xml')\n",
    "root = tree.getroot()\n",
    "\n",
    "# Шаг 3: Функция для получения шагов рецепта по его id\n",
    "# Определяем функцию, которая принимает id рецепта и возвращает список шагов приготовления\n",
    "def get_steps(recipe_id):\n",
    "    # Проходим по всем рецептам в XML\n",
    "    for recipe in root.findall('recipe'):\n",
    "        # Если найден рецепт с нужным id\n",
    "        if recipe.find('id').text == str(recipe_id):\n",
    "            # Извлекаем все шаги и возвращаем их как список\n",
    "            steps = [step.text for step in recipe.find('steps').findall('step')]\n",
    "            return steps\n",
    "    # Если рецепт не найден, возвращаем пустой список\n",
    "    return []\n",
    "\n",
    "# Шаг 4: Создание функции show_info\n",
    "# Определяем функцию для форматирования и вывода информации о рецепте\n",
    "def show_info(name, steps, minutes, author_id):\n",
    "    # Преобразуем название рецепта в заглавные буквы\n",
    "    title = name.title()\n",
    "    # Форматируем шаги приготовления\n",
    "    steps_str = '\\n'.join([f\"{i+1}. {step}\" for i, step in enumerate(steps)])\n",
    "    # Формируем итоговую строку с информацией о рецепте\n",
    "    result = (\n",
    "        f'\"{title}\"\\n\\n'                     # Заголовок с названием рецепта\n",
    "        f\"{steps_str}\\n\"                    # Список шагов приготовления\n",
    "        \"----------\\n\"                      # Разделитель\n",
    "        f\"Автор: {author_id}\\n\"             # Информация об авторе рецепта\n",
    "        f\"Среднее время приготовления: {minutes} минут\\n\"  # Информация о времени приготовления\n",
    "    )\n",
    "    return result\n",
    "\n",
    "# Шаг 5: Получите данные для рецепта с id 170895\n",
    "# Задаем id рецепта, который будем искать\n",
    "recipe_id = 170895\n",
    "# Находим данные о рецепте в DataFrame по id\n",
    "recipe_data = recipes[recipes['id'] == recipe_id].iloc[0]\n",
    "# Извлекаем название рецепта\n",
    "name = recipe_data['name']\n",
    "# Извлекаем среднее время приготовления\n",
    "minutes = recipe_data['minutes']\n",
    "# Извлекаем id автора рецепта\n",
    "author_id = recipe_data['contributor_id']\n",
    "# Получаем список шагов приготовления для данного рецепта\n",
    "steps = get_steps(recipe_id)\n",
    "\n",
    "# Вызов функции и вывод результата\n",
    "# Форматируем и выводим информацию о рецепте\n",
    "result = show_info(name, steps, minutes, author_id)\n",
    "print(result)"
   ]
  },
  {
   "cell_type": "markdown",
   "id": "91bab542-a8a3-4f11-991d-2953607e7df1",
   "metadata": {},
   "source": [
    "3\\. Напишите регулярное выражение, которое ищет следующий паттерн в строке: число (1 цифра или более), затем пробел, затем слова: hour или hours или minute или minutes. Произведите поиск по данному регулярному выражению в каждом шаге рецепта с id 25082. Выведите на экран все непустые результаты, найденные по данному шаблону."
   ]
  },
  {
   "cell_type": "code",
   "execution_count": 8,
   "id": "6f73740d-8641-472b-a8a7-342a867bf1d8",
   "metadata": {},
   "outputs": [
    {
     "name": "stdout",
     "output_type": "stream",
     "text": [
      "Шаг рецепта с id 25082 содержит следующие совпадения: a simple, easy whole wheat bread recipe posted on request\n",
      "Шаг рецепта с id 25082 содержит следующие совпадения:  i got it from \n"
     ]
    }
   ],
   "source": [
    "import re\n",
    "import csv\n",
    "\n",
    "# Путь к файлу с рецептами\n",
    "file_path = 'recipes_sample.csv'\n",
    "\n",
    "# Регулярное выражение для поиска числа, за которым следует пробел и одно из слов \"hour\", \"hours\", \"minute\", \"minutes\"\n",
    "pattern = r'\\b\\d+\\s(hour|hours|minute|minutes)\\b'\n",
    "\n",
    "# Открываем файл и читаем его построчно\n",
    "with open(file_path, 'r', encoding='utf-8') as file:\n",
    "    reader = csv.reader(file)\n",
    "    header = next(reader)  # Пропускаем заголовок\n",
    "    \n",
    "    for row in reader:\n",
    "        recipe_id = row[1]  # Извлекаем id рецепта\n",
    "        if recipe_id == '25082': # Проверяем, соответствует ли id нужному значению\n",
    "            # Проходим по каждому шагу рецепта и ищем совпадения с регулярным выражением\n",
    "            for step in row[6].split('.'):  # Предполагается, что шаги разделены точками\n",
    "                print(f\"Шаг рецепта с id {recipe_id} содержит следующие совпадения: {step}\")"
   ]
  },
  {
   "cell_type": "markdown",
   "id": "6bf46afb-e28f-4c5c-aa44-760483368879",
   "metadata": {},
   "source": [
    " 4\\. Напишите регулярное выражение, которое ищет шаблон вида \"this..., but\" _в начале строки_ . Между словом \"this\" и частью \", but\" может находиться произвольное число букв, цифр, знаков подчеркивания и пробелов. Никаких других символов вместо многоточия быть не может. Пробел между запятой и словом \"but\" может присутствовать или отсутствовать.\n",
    "\n",
    "Используя строковые методы `pd.Series`, выясните, для каких рецептов данный шаблон содержится в тексте описания. Выведите на экран количество таких рецептов и 3 примера подходящих описаний (текст описания должен быть виден на экране полностью)."
   ]
  },
  {
   "cell_type": "code",
   "execution_count": 9,
   "id": "b0504a79-2a5f-48b4-8a59-fde86536ad6a",
   "metadata": {},
   "outputs": [
    {
     "name": "stdout",
     "output_type": "stream",
     "text": [
      "Количество подходящих рецептов: 9\n",
      "Примеры подходящих описаний:\n",
      "['this is kind of similar to some of the other versions out there, but it is the best and easiest i have found', 'this is really nice inside my best ever chocolate cake, but you could use for any recipie its very simple to make and tastes yummy', 'this recipes takes a little playing around, but it really worth it for the oohs and aahs and the ']\n"
     ]
    }
   ],
   "source": [
    "import pandas as pd\n",
    "\n",
    "data = pd.read_csv('recipes_sample.csv')\n",
    "df = pd.DataFrame(data)\n",
    "df = df.dropna(subset=['description'])\n",
    "pattern = r'^(?:this[\\w\\s]*,?\\s?but(?:\\s[\\w\\s]*)?|\\s*)$'\n",
    "matching_recipes = df[df['description'].str.contains(pattern, regex=True)]\n",
    "count_matching_recipes = matching_recipes.shape[0]\n",
    "print(f\"Количество подходящих рецептов: {count_matching_recipes}\")\n",
    "\n",
    "print(\"Примеры подходящих описаний:\")\n",
    "print(matching_recipes['description'].head(3).to_list())"
   ]
  },
  {
   "cell_type": "markdown",
   "id": "b578aa54-67b3-4ab8-9485-a25298b91b52",
   "metadata": {},
   "source": [
    "5. В текстах шагов рецептов обыкновенные дроби имеют вид \"a / b\". Используя регулярные выражения, уберите в тексте шагов рецепта с id 72367 пробелы до и после символа дроби. Выведите на экран шаги этого рецепта после их изменения."
   ]
  },
  {
   "cell_type": "code",
   "execution_count": 2,
   "id": "ae35cd6a-d07c-4825-ac90-61532e5e2b94",
   "metadata": {},
   "outputs": [
    {
     "name": "stdout",
     "output_type": "stream",
     "text": [
      "Исходные шаги:\n",
      "mix butter , flour , 1 / 3 c\n",
      "sugar and 1-1 / 4 t\n",
      "vanilla\n",
      "press into greased 9\" springform pan\n",
      "mix cream cheese , 1 / 4 c\n",
      "sugar , eggs and 1 / 2 t\n",
      "vanilla beating until fluffy\n",
      "pour over dough\n",
      "combine apples , 1 / 3 c\n",
      "sugar and cinnamon\n",
      "arrange on top of cream cheese mixture and sprinkle with almonds\n",
      "bake at 350 for 45-55 minutes , or until tester comes out clean\n",
      "\n",
      "Шаги после удаления пробелов перед и после символов дроби:\n",
      "mix butter , flour , 1/3 c\n",
      "sugar and 1-1/4 t\n",
      "vanilla\n",
      "press into greased 9\" springform pan\n",
      "mix cream cheese , 1/4 c\n",
      "sugar , eggs and 1/2 t\n",
      "vanilla beating until fluffy\n",
      "pour over dough\n",
      "combine apples , 1/3 c\n",
      "sugar and cinnamon\n",
      "arrange on top of cream cheese mixture and sprinkle with almonds\n",
      "bake at 350 for 45-55 minutes , or until tester comes out clean\n"
     ]
    }
   ],
   "source": [
    "import re\n",
    "import xml.etree.ElementTree as ET\n",
    "\n",
    "# Функция для удаления пробелов перед и после символов дроби в тексте шага\n",
    "def remove_fraction_spaces(step_text):\n",
    "    # Регулярное выражение для поиска пробелов перед и после символов дроби\n",
    "    pattern = r'\\s*\\/\\s*'\n",
    "    # Замена пробелов перед и после символов дроби на пустую строку\n",
    "    step_text = re.sub(pattern, '/', step_text)\n",
    "    return step_text\n",
    "\n",
    "# Загрузка данных о шагах приготовления из файла steps_sample.xml\n",
    "tree = ET.parse('steps_sample.xml')\n",
    "root = tree.getroot()\n",
    "\n",
    "# Находим шаги для рецепта с id 72367\n",
    "recipe_id = '72367'\n",
    "# Используем XPath для поиска нужного рецепта и его шагов\n",
    "steps = root.find(\"./recipe[id='{}']/steps\".format(recipe_id))\n",
    "\n",
    "# Вывод исходных шагов\n",
    "print(\"Исходные шаги:\")\n",
    "for step in steps.findall('step'):\n",
    "    print(step.text)\n",
    "\n",
    "# Удаление пробелов перед и после символов дроби в текстах шагов\n",
    "for step in steps.findall('step'):\n",
    "    step.text = remove_fraction_spaces(step.text)\n",
    "\n",
    "# Вывод измененных шагов\n",
    "print(\"\\nШаги после удаления пробелов перед и после символов дроби:\")\n",
    "for step in steps.findall('step'):\n",
    "    print(step.text)"
   ]
  },
  {
   "cell_type": "markdown",
   "id": "d4c85049-49c2-479d-8ba2-214344df9fd0",
   "metadata": {},
   "source": [
    "6. Разбейте тексты шагов рецептов на слова при помощи пакета nltk. Посчитайте и выведите на экран кол-во уникальных слов среди всех рецептов. Словом называется любая последовательность алфавитных символов (для проверки можно воспользоваться str.isalpha). При подсчете количества уникальных слов не учитывайте регистр."
   ]
  },
  {
   "cell_type": "code",
   "execution_count": null,
   "id": "1bc65420-0e93-4867-bd62-c542b58e8984",
   "metadata": {},
   "outputs": [],
   "source": [
    "import nltk\n",
    "from nltk.tokenize import word_tokenize\n",
    "import xml.etree.ElementTree as ET\n",
    "\n",
    "# Загрузка данных о шагах приготовления из файла steps_sample.xml\n",
    "# Загружаем XML-файл и получаем корневой элемент\n",
    "tree = ET.parse('steps_sample.xml')\n",
    "root = tree.getroot()\n",
    "\n",
    "# Получение всех текстов шагов рецептов\n",
    "# Извлекаем текст всех шагов и преобразуем его в нижний регистр для унификации\n",
    "all_steps_text = [step.text.lower() for step in root.findall(\".//step\")]\n",
    "\n",
    "# Разбиение текстов на слова и фильтрация алфавитных символов\n",
    "# Разбиваем каждый текст шага на отдельные слова, фильтруя только алфавитные слова\n",
    "words = [word for step_text in all_steps_text for word in word_tokenize(step_text) if word.isalpha()]\n",
    "\n",
    "# Подсчет количества уникальных слов (без учета регистра)\n",
    "# Преобразуем список слов в множество для получения уникальных слов\n",
    "unique_words = set(words)\n",
    "\n",
    "# Вывод количества уникальных слов\n",
    "print(\"Количество уникальных слов среди всех рецептов:\", len(unique_words))"
   ]
  }
 ],
 "metadata": {
  "kernelspec": {
   "display_name": "Python 3 (ipykernel)",
   "language": "python",
   "name": "python3"
  },
  "language_info": {
   "codemirror_mode": {
    "name": "ipython",
    "version": 3
   },
   "file_extension": ".py",
   "mimetype": "text/x-python",
   "name": "python",
   "nbconvert_exporter": "python",
   "pygments_lexer": "ipython3",
   "version": "3.11.7"
  }
 },
 "nbformat": 4,
 "nbformat_minor": 5
}
