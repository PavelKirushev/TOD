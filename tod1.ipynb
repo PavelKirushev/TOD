{
 "cells": [
  {
   "cell_type": "markdown",
   "id": "86d7ae82-b61a-4b16-941f-056aa0b6d7fb",
   "metadata": {},
   "source": [
    "1. Сгенерировать двухмерный массив `arr` размерности (4, 7), состоящий из случайных действительных чисел, равномерно распределенных в диапазоне от 0 до 20. Нормализовать значения массива с помощью преобразования вида  $𝑎𝑥+𝑏$  так, что после нормализации максимальный элемент масcива будет равен 1.0, минимальный 0.0"
   ]
  },
  {
   "cell_type": "code",
   "execution_count": 4,
   "id": "f75c5c8c-3863-4a53-990e-3399ee4e9d1a",
   "metadata": {},
   "outputs": [
    {
     "name": "stdout",
     "output_type": "stream",
     "text": [
      "[[0.53470315 0.75380312 0.09084821 0.94701067 0.07899898 1.\n",
      "  0.14029333]\n",
      " [0.13027597 0.73349077 0.25307568 0.62706467 0.41378825 0.28173779\n",
      "  0.43816621]\n",
      " [0.14551557 0.97523673 0.26513532 0.52283074 0.92945416 0.75223041\n",
      "  0.85887942]\n",
      " [0.88014418 0.06902937 0.42908485 0.11550032 0.         0.40349089\n",
      "  0.84048489]]\n"
     ]
    }
   ],
   "source": [
    "import numpy as np\n",
    "arr = np.random.uniform(0, 20, (4, 7))#заполнение массива размерности 4 на 7 случайными дробными числами в диапазоне от 0 до 20\n",
    "arr_norm = (arr - arr.min())/ (arr.max() - arr.min())#формулка для нормализации\n",
    "print(arr_norm)"
   ]
  },
  {
   "cell_type": "markdown",
   "id": "4de36be5-3fdd-4750-9828-d7e3dbe5d964",
   "metadata": {},
   "source": [
    "2. Создать матрицу 8 на 10 из случайных целых (используя модуль `numpy.random`) чисел из диапозона от 0 до 10 и найти в ней строку (ее индекс и вывести саму строку), в которой сумма значений минимальна."
   ]
  },
  {
   "cell_type": "code",
   "execution_count": null,
   "id": "1cd4e36d-290c-48fd-b035-80e3dd6bc73d",
   "metadata": {},
   "outputs": [],
   "source": [
    "import numpy as np\n",
    "arr = np.random.randint(0, 10, (8, 10))\n",
    "min_len = sum(arr[0])\n",
    "ind = 0\n",
    "for i in range(1, len(arr)):\n",
    "    if min_len > sum(arr[i]):\n",
    "        min_len = sum(arr[i])\n",
    "        ind = i\n",
    "print(ind, arr[ind])"
   ]
  },
  {
   "cell_type": "markdown",
   "id": "cc71f3db-9b8e-41e4-b9a0-10b7f6288f49",
   "metadata": {},
   "source": [
    "3. Найти евклидово расстояние между двумя одномерными векторами одинаковой размерности."
   ]
  },
  {
   "cell_type": "code",
   "execution_count": null,
   "id": "10c7a47c-9549-4750-804d-a81b8a0341ea",
   "metadata": {},
   "outputs": [],
   "source": [
    "import numpy as np\n",
    "from numpy.linalg import norm\n",
    "vector1 = np.random.randint(0, 10, (1, 10))\n",
    "vector2 = np.random.randint(0, 10, (1, 10))\n",
    "a = norm(vector1 - vector2)#функция для вычисления евклидова расстояния\n",
    "print(vector1)\n",
    "print(vector2)\n",
    "print(a)"
   ]
  },
  {
   "cell_type": "markdown",
   "id": "2e54f5de-1420-4e2b-9684-fdb91aa6c4da",
   "metadata": {},
   "source": [
    "4. Решить матричное уравнение `A*X*B=-C` - найти матрицу `X`. Где `A = [[-1, 2, 4], [-3, 1, 2], [-3, 0, 1]]`, `B=[[3, -1], [2, 1]]`, `C=[[7, 21], [11, 8], [8, 4]]`."
   ]
  },
  {
   "cell_type": "code",
   "execution_count": null,
   "id": "1a6d085d-3d0b-4422-a85d-36265d0ea389",
   "metadata": {},
   "outputs": [],
   "source": [
    "import numpy as np\n",
    "a = np.array([[-1, 2, 4], [-3, 1, 2], [-3, 0, 1]])\n",
    "b = np.array([[3, -1], [2, 1]])\n",
    "c = np.array([[7, 21], [11, 8], [8, 4]])\n",
    "minus_c = np.dot(c, -1)#умножение матриц\n",
    "a_inv = np.linalg.inv(a)#обратная матрица\n",
    "b_inv = np.linalg.inv(b)\n",
    "x1 = np.dot(a_inv, minus_c)\n",
    "x = np.dot(x1, b_inv)\n",
    "print(x)"
   ]
  },
  {
   "cell_type": "markdown",
   "id": "5d52369d-6844-4452-8ae7-61466ca0d399",
   "metadata": {},
   "source": [
    "1. Файл `minutes_n_ingredients.csv` содержит информацию об идентификаторе рецепта, времени его выполнения в минутах и количестве необходимых ингредиентов. Считайте данные из этого файла в виде массива `numpy` типа `int32`, используя `np.loadtxt`. Выведите на экран первые 5 строк массива."
   ]
  },
  {
   "cell_type": "code",
   "execution_count": null,
   "id": "5cd7eda3-713f-476d-b29c-12f277671d51",
   "metadata": {},
   "outputs": [],
   "source": [
    "import numpy as np\n",
    "arr = np.loadtxt('minutes_n_ingredients.csv', delimiter=',', dtype=np.int32, skiprows=1)#запись в arr массива из файла\n",
    "print(arr[:5])"
   ]
  },
  {
   "cell_type": "markdown",
   "id": "8cfdf147-ba50-40ca-91d8-2b798da038a0",
   "metadata": {},
   "source": [
    "2. Вычислите среднее значение, минимум, максимум и медиану по каждому из столбцов, кроме первого."
   ]
  },
  {
   "cell_type": "code",
   "execution_count": null,
   "id": "5b98f6e8-536b-48c7-af37-cc86806873ce",
   "metadata": {},
   "outputs": [],
   "source": [
    "import numpy as np\n",
    "arr = np.loadtxt('minutes_n_ingredients.csv', delimiter=',', dtype=np.int32, skiprows=1)\n",
    "print(np.min(arr[:, 1], axis=0), np.max(arr[:, 1], axis=0), np.mean(arr[:, 1]), np.median(arr[:, 1]))#mean = ср. знач. median - ср. элем.\n",
    "print(np.min(arr[:, 2], axis=0), np.max(arr[:, 2], axis=0), np.mean(arr[:, 2]), np.median(arr[:, 2]))"
   ]
  },
  {
   "cell_type": "markdown",
   "id": "388ca110-210e-47b9-9185-0a6db3e5e8c0",
   "metadata": {},
   "source": [
    "3. Ограничьте сверху значения продолжительности выполнения рецепта значением квантиля $q_{0.75}$. "
   ]
  },
  {
   "cell_type": "code",
   "execution_count": 12,
   "id": "af81f785-c72c-42cd-8044-30be4197b1b9",
   "metadata": {},
   "outputs": [
    {
     "name": "stdout",
     "output_type": "stream",
     "text": [
      "[[127244     60     16]\n",
      " [ 23891     25      7]\n",
      " [ 94746     10      6]\n",
      " ...\n",
      " [498432     65     15]\n",
      " [370915      5      4]\n",
      " [ 81993     65     14]]\n"
     ]
    }
   ],
   "source": [
    "import numpy as np\n",
    "arr = np.loadtxt('minutes_n_ingredients.csv', delimiter=',', dtype=np.int32, skiprows=1)\n",
    "q = np.quantile(arr[:,1], 0.75)\n",
    "# все значения больше значения квантиля = 65 заменим на 65\n",
    "# numpy.where(condition, [x, y, ]/) - когда conditon True - x, иначе y\n",
    "arr[:, 1] = np.where(arr[:, 1] > q, q, arr[:, 1])  \n",
    "print(arr)"
   ]
  },
  {
   "cell_type": "markdown",
   "id": "8345a462-ea7a-4d70-9f33-318fdfc8104b",
   "metadata": {},
   "source": [
    "4. Посчитайте, для скольких рецептов указана продолжительность, равная нулю. Замените для таких строк значение в данном столбце на 1."
   ]
  },
  {
   "cell_type": "code",
   "execution_count": null,
   "id": "1ffc75de-9de2-4b49-9e5a-6f447a17b1f0",
   "metadata": {},
   "outputs": [],
   "source": [
    "import numpy as np\n",
    "arr = np.loadtxt('minutes_n_ingredients.csv', delimiter=',', dtype=np.int32, skiprows=1)\n",
    "cnt = 0\n",
    "print(len(arr) * len(arr[0]) - np.count_nonzero(arr))\n",
    "arr[arr == 0] = 1\n",
    "print(len(arr) * len(arr[0]) - np.count_nonzero(arr))"
   ]
  },
  {
   "cell_type": "markdown",
   "id": "b00d2b59-dc0b-4af9-93b0-f33ec9cea8fe",
   "metadata": {},
   "source": [
    "5. Посчитайте, сколько уникальных рецептов находится в датасете."
   ]
  },
  {
   "cell_type": "code",
   "execution_count": 10,
   "id": "d0fe2d48-5f00-41c5-a6f3-919efe35b84e",
   "metadata": {},
   "outputs": [
    {
     "name": "stdout",
     "output_type": "stream",
     "text": [
      "4195\n"
     ]
    }
   ],
   "source": [
    "import numpy as np\n",
    "arr = np.loadtxt('minutes_n_ingredients.csv', delimiter=',', dtype=np.int32, skiprows=1)\n",
    "cnt = len(np.unique(np.column_stack([arr[:,1], arr[:,2]]), axis=0))\n",
    "print(cnt)"
   ]
  },
  {
   "cell_type": "markdown",
   "id": "136514e4-051f-4274-87bb-39699db93d59",
   "metadata": {},
   "source": [
    "6. Сколько и каких различных значений кол-ва ингредиентов присутвует в рецептах из датасета?"
   ]
  },
  {
   "cell_type": "code",
   "execution_count": 9,
   "id": "d5aa7ee3-1c73-44c4-b24d-e2e3e161f7fa",
   "metadata": {},
   "outputs": [
    {
     "name": "stdout",
     "output_type": "stream",
     "text": [
      "[ 1  2  3  4  5  6  7  8  9 10 11 12 13 14 15 16 17 18 19 20 21 22 23 24\n",
      " 25 26 27 28 29 30 31 32 33 34 35 37 39] 37\n"
     ]
    }
   ],
   "source": [
    "import numpy as np\n",
    "arr = np.loadtxt('minutes_n_ingredients.csv', delimiter=',', dtype=np.int32, skiprows=1)\n",
    "uniq = np.unique(arr[:,2])\n",
    "print(uniq, len(uniq))"
   ]
  },
  {
   "cell_type": "markdown",
   "id": "2faaae84-6bac-4338-a300-4e799a3c3d4b",
   "metadata": {},
   "source": [
    "7. Создайте версию массива, содержащую информацию только о рецептах, состоящих не более чем из 5 ингредиентов."
   ]
  },
  {
   "cell_type": "code",
   "execution_count": 8,
   "id": "7e4b4873-1f19-4030-925c-889756b2d619",
   "metadata": {},
   "outputs": [
    {
     "name": "stdout",
     "output_type": "stream",
     "text": [
      "[[446597     15      5]\n",
      " [204134      5      3]\n",
      " [ 25623      6      4]\n",
      " ...\n",
      " [ 52088     60      5]\n",
      " [128811     15      4]\n",
      " [370915      5      4]]\n"
     ]
    }
   ],
   "source": [
    "import numpy as np\n",
    "arr = np.loadtxt('minutes_n_ingredients.csv', delimiter=',', dtype=np.int32, skiprows=1)\n",
    "mas = arr[arr[:, 2] <= 5]\n",
    "print(mas)"
   ]
  },
  {
   "cell_type": "markdown",
   "id": "f999ba44-1037-4b6a-8de6-6b80f2131fbb",
   "metadata": {},
   "source": [
    "8. Для каждого рецепта посчитайте, сколько в среднем ингредиентов приходится на одну минуту рецепта. Найдите максимальное значение этой величины для всего датасета"
   ]
  },
  {
   "cell_type": "code",
   "execution_count": 1,
   "id": "cd0ce66e-cb92-42b5-9797-30b833968826",
   "metadata": {},
   "outputs": [
    {
     "name": "stdout",
     "output_type": "stream",
     "text": [
      "0.3429242617056809\n",
      "max: 23.0\n"
     ]
    }
   ],
   "source": [
    "import numpy as np\n",
    "arr = np.loadtxt('minutes_n_ingredients.csv', delimiter=',', dtype=np.int32, skiprows=1)\n",
    "arr[arr[:, 1] == 0] = 1\n",
    "mas = arr[:, 2] / arr[:, 1]\n",
    "summa = np.sum(mas)\n",
    "itog = summa / len(mas)\n",
    "print(itog)\n",
    "print(f\"max: {mas.max()}\")"
   ]
  },
  {
   "cell_type": "markdown",
   "id": "8e30430c-ac51-4b9c-a598-e541f61e0de6",
   "metadata": {},
   "source": [
    "9. Вычислите среднее количество ингредиентов для топ-100 рецептов с наибольшей продолжительностью"
   ]
  },
  {
   "cell_type": "code",
   "execution_count": 7,
   "id": "890661d5-5d48-44b6-a2de-27d1ea60f8ec",
   "metadata": {},
   "outputs": [
    {
     "name": "stdout",
     "output_type": "stream",
     "text": [
      "6.61\n"
     ]
    }
   ],
   "source": [
    "import numpy as np\n",
    "arr = np.loadtxt('minutes_n_ingredients.csv', delimiter=',', dtype=np.int32, skiprows=1)\n",
    "arr = (arr[arr[:, 1].argsort()[::-1]])[:100]\n",
    "summa = np.sum(arr[:,2])\n",
    "print(summa / 100)"
   ]
  },
  {
   "cell_type": "markdown",
   "id": "089e58a5-3038-41ae-a013-f9c239e77a0d",
   "metadata": {},
   "source": [
    "10. Выберите случайным образом и выведите информацию о 10 различных рецептах"
   ]
  },
  {
   "cell_type": "code",
   "execution_count": 6,
   "id": "cd4be215-a949-4e80-bd0f-5d85aeff3ec2",
   "metadata": {},
   "outputs": [
    {
     "name": "stdout",
     "output_type": "stream",
     "text": [
      "[[126971     75     10]\n",
      " [  4667      0      5]\n",
      " [123456     75      9]\n",
      " [100014    270      7]\n",
      " [  8038     15     11]\n",
      " [ 19188     30     13]\n",
      " [150192     45      6]\n",
      " [488628     20      6]\n",
      " [176133     60     17]\n",
      " [198446     70     15]]\n"
     ]
    }
   ],
   "source": [
    "import numpy as np\n",
    "arr = np.loadtxt('minutes_n_ingredients.csv', delimiter=',', dtype=np.int32, skiprows=1)\n",
    "np.random.shuffle(arr)#перемешиваем\n",
    "print(arr[:10])"
   ]
  },
  {
   "cell_type": "markdown",
   "id": "d0864d4c-37f4-4b1c-80cf-df2de45d203c",
   "metadata": {},
   "source": [
    "11. Выведите процент рецептов, кол-во ингредиентов в которых меньше среднего."
   ]
  },
  {
   "cell_type": "code",
   "execution_count": 5,
   "id": "710b51cb-0569-4c0f-87e9-8d2984f67e91",
   "metadata": {},
   "outputs": [
    {
     "name": "stdout",
     "output_type": "stream",
     "text": [
      "58.802 %\n"
     ]
    }
   ],
   "source": [
    "import numpy as np\n",
    "arr = np.loadtxt('minutes_n_ingredients.csv', delimiter=',', dtype=np.int32, skiprows=1)\n",
    "sr = np.mean(arr[:, 2])\n",
    "cnt = np.sum(arr[: ,2] < sr)\n",
    "print(f\"{cnt / len(arr) * 100} %\")"
   ]
  },
  {
   "cell_type": "markdown",
   "id": "1d87be69-cd92-4108-b92d-238e2b0e5d27",
   "metadata": {},
   "source": [
    "12. Назовем \"простым\" такой рецепт, длительность выполнения которого не больше 20 минут и кол-во ингредиентов в котором не больше 5. Создайте версию датасета с дополнительным столбцом, значениями которого являются 1, если рецепт простой, и 0 в противном случае."
   ]
  },
  {
   "cell_type": "code",
   "execution_count": 4,
   "id": "78ba7a15-7a90-47fc-9d06-10a63a8c0ee6",
   "metadata": {},
   "outputs": [
    {
     "name": "stdout",
     "output_type": "stream",
     "text": [
      "[[127244     60     16      0]\n",
      " [ 23891     25      7      0]\n",
      " [ 94746     10      6      0]\n",
      " ...\n",
      " [498432     65     15      0]\n",
      " [370915      5      4      1]\n",
      " [ 81993    140     14      0]]\n"
     ]
    }
   ],
   "source": [
    "import numpy as np\n",
    "arr = np.loadtxt('minutes_n_ingredients.csv', delimiter=',', dtype=np.int32, skiprows=1)\n",
    "simple_recipe = np.where((arr[:, 1] <= 20) & (arr[:, 2] <= 5), 1, 0)#новый столбец, где 1 если простой и 0 если не простой\n",
    "arr = np.column_stack((arr, simple_recipe))#добавляем новый столбец\n",
    "print(arr)"
   ]
  },
  {
   "cell_type": "markdown",
   "id": "d5f165d8-bd91-490a-a65b-76d2a8d688eb",
   "metadata": {},
   "source": [
    "13. Выведите процент \"простых\" рецептов в датасете"
   ]
  },
  {
   "cell_type": "code",
   "execution_count": 2,
   "id": "1882cf58-fee6-4ba1-be28-817cd0e14c60",
   "metadata": {},
   "outputs": [
    {
     "name": "stdout",
     "output_type": "stream",
     "text": [
      "9.552 %\n"
     ]
    }
   ],
   "source": [
    "import numpy as np\n",
    "arr = np.loadtxt('minutes_n_ingredients.csv', delimiter=',', dtype=np.int32, skiprows=1)\n",
    "simple_recipe = np.where((arr[:, 1] <= 20) & (arr[:, 2] <= 5), 1, 0)\n",
    "arr = np.column_stack((arr, simple_recipe))\n",
    "cnt = np.sum(arr[:, 3] == 1)\n",
    "print(f\"{cnt/len(arr) * 100} %\")"
   ]
  },
  {
   "cell_type": "markdown",
   "id": "a6c54759-a177-436b-84f5-3b2a24f1b48f",
   "metadata": {},
   "source": [
    "14. Разделим рецепты на группы по следующему правилу. Назовем рецепты короткими, если их продолжительность составляет менее 10 минут; стандартными, если их продолжительность составляет более 10, но менее 20 минут; и длинными, если их продолжительность составляет не менее 20 минут. Создайте трехмерный массив, где нулевая ось отвечает за номер группы (короткий, стандартный или длинный рецепт), первая ось - за сам рецепт и вторая ось - за характеристики рецепта. Выберите максимальное количество рецептов из каждой группы таким образом, чтобы было возможно сформировать трехмерный массив. Выведите форму полученного массива."
   ]
  },
  {
   "cell_type": "code",
   "execution_count": 3,
   "id": "0d332647-5851-49a5-a242-cf74fada7645",
   "metadata": {},
   "outputs": [
    {
     "name": "stdout",
     "output_type": "stream",
     "text": [
      "(3, 7588, 3)\n"
     ]
    }
   ],
   "source": [
    "import numpy as np\n",
    "arr = np.loadtxt('minutes_n_ingredients.csv', delimiter=',', dtype=np.int32, skiprows=1)\n",
    "\n",
    "short = arr[arr[:, 1] < 10]\n",
    "standard= arr[(arr[:, 1] >= 10) & (arr[:, 1] < 20)]\n",
    "long = arr[arr[:, 1] >= 20]#разделяем\n",
    "\n",
    "max_znach= min(len(short), len(standard), len(long))#максимальное количество рецептов в каждой группе\n",
    "short = short[:max_znach]\n",
    "standard = standard[:max_znach]\n",
    "long = long[:max_znach]#срезаем, т.к. массив должен быть только прямоугольным\n",
    "\n",
    "array = np.array([short, standard, long])\n",
    "print(array.shape)"
   ]
  }
 ],
 "metadata": {
  "kernelspec": {
   "display_name": "Python 3 (ipykernel)",
   "language": "python",
   "name": "python3"
  },
  "language_info": {
   "codemirror_mode": {
    "name": "ipython",
    "version": 3
   },
   "file_extension": ".py",
   "mimetype": "text/x-python",
   "name": "python",
   "nbconvert_exporter": "python",
   "pygments_lexer": "ipython3",
   "version": "3.11.7"
  }
 },
 "nbformat": 4,
 "nbformat_minor": 5
}
