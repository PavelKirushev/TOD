{
 "cells": [
  {
   "cell_type": "markdown",
   "id": "5854e4fc-cf3d-4e6b-97ad-489afc087f06",
   "metadata": {},
   "source": [
    "1. Загрузите данные из файлов `reviews_sample.csv` (__ЛР2__) и `recipes_sample.csv` (__ЛР5__) в виде `pd.DataFrame`. Обратите внимание на корректное считывание столбца(ов) с индексами. Оставьте в таблице с рецептами следующие столбцы: `id`, `name`, `minutes`, `submitted`, `description`, `n_ingredients`"
   ]
  },
  {
   "cell_type": "code",
   "execution_count": 9,
   "id": "04a757a6-dfff-4bc3-a43b-5a42d58fcc35",
   "metadata": {},
   "outputs": [],
   "source": [
    "import pandas as pd\n",
    "\n",
    "reviews_df = pd.read_csv('reviews_sample.csv')\n",
    "recipes_df = pd.read_csv('recipes_sample.csv', index_col=0)"
   ]
  },
  {
   "cell_type": "markdown",
   "id": "f8557031-b811-49a0-979b-81bbc13d7d61",
   "metadata": {},
   "source": [
    "2. Случайным образом выберите 5% строк из каждой таблицы и сохраните две таблицы на разные листы в один файл `recipes.xlsx`. Дайте листам названия \"Рецепты\" и \"Отзывы\", соответствующие содержанию таблиц. "
   ]
  },
  {
   "cell_type": "code",
   "execution_count": 10,
   "id": "3ee1e73f-7175-42b0-af75-14372b82b3d4",
   "metadata": {},
   "outputs": [],
   "source": [
    "sluch = reviews_df.sample(6335)\n",
    "sluch2 = recipes_df.sample(1500)\n",
    "\n",
    "# Создаем объект ExcelWriter\n",
    "with pd.ExcelWriter('recipes.xlsx') as writer:\n",
    "    # Записываем DataFrame в разные листы Excel\n",
    "    sluch2.to_excel(writer, sheet_name=\"Рецепты\", index=False)\n",
    "    sluch.to_excel(writer, sheet_name=\"Отзывы\", index=False)"
   ]
  },
  {
   "cell_type": "markdown",
   "id": "323ddac4-f2cd-42ff-83e4-16e810534581",
   "metadata": {},
   "source": [
    "3. Используя `xlwings`, добавьте на лист `Рецепты` столбец `seconds_assign`, показывающий время выполнения рецепта в секундах. Выполните задание при помощи присваивания массива значений диапазону ячеек."
   ]
  },
  {
   "cell_type": "code",
   "execution_count": 11,
   "id": "e9a6ae0c-e777-42c9-a908-dd31df6d34c8",
   "metadata": {},
   "outputs": [],
   "source": [
    "wb = xw.Book('recipes.xlsx')\n",
    "sluch = wb.sheets['Рецепты']\n",
    "sluch2 = wb.sheets['Отзывы']\n",
    "\n",
    "sluch.range('G2').options(transpose=True).value = [int(value)*60 for value in sluch.range('B2').expand('down').value]\n",
    "sluch2.range('G1').value = 'seconds_assign'"
   ]
  },
  {
   "cell_type": "markdown",
   "id": "b2cddcbb-001a-4617-b1ff-fab1f8319606",
   "metadata": {},
   "source": [
    "4. Используя `xlwings`, добавьте на лист `Рецепты` столбец `seconds_formula`, показывающий время выполнения рецепта в секундах. Выполните задание при помощи формул Excel."
   ]
  },
  {
   "cell_type": "code",
   "execution_count": 5,
   "id": "6453588d-df8d-4b27-a60a-e0e7328b2dd7",
   "metadata": {},
   "outputs": [],
   "source": [
    "import xlwings as xw\n",
    "\n",
    "wb = xw.Book('recipes.xlsx')\n",
    "sheet = wb.sheets['Рецепты']\n",
    "\n",
    "\n",
    "range_minutes = sheet.range('B2').expand('down')\n",
    "range_seconds_assign = sheet.range('H1').expand('table')\n",
    "\n",
    "range_seconds_assign.options(transpose=True).value = [\"seconds_assign\"] + [i * 60 for i in range_minutes.value]\n",
    "\n",
    "wb.save()\n",
    "wb.close()"
   ]
  },
  {
   "cell_type": "markdown",
   "id": "2a99614f-15b5-4c87-927f-526b3fba8612",
   "metadata": {},
   "source": [
    "6. Раскрасьте ячейки столбца `minutes` в соответствии со следующим правилом: если рецепт выполняется быстрее 5 минут, то цвет - зеленый; от 5 до 10 минут - жёлтый; и больше 10 - красный."
   ]
  },
  {
   "cell_type": "code",
   "execution_count": null,
   "id": "f957cbba-29b5-46cd-b1f1-6f7b4b8b0250",
   "metadata": {},
   "outputs": [],
   "source": [
    "xw.sheetsp[\"Рецепты\"].activate()\n",
    "minutes = xw.Range(\"D"
   ]
  },
  {
   "cell_type": "code",
   "execution_count": 12,
   "id": "3aa352e9-40b6-4a36-aba1-1fdb4b6b7df5",
   "metadata": {},
   "outputs": [
    {
     "ename": "FileNotFoundError",
     "evalue": "No such file: 'test.xlsx'",
     "output_type": "error",
     "traceback": [
      "\u001b[1;31m---------------------------------------------------------------------------\u001b[0m",
      "\u001b[1;31mFileNotFoundError\u001b[0m                         Traceback (most recent call last)",
      "Cell \u001b[1;32mIn[12], line 3\u001b[0m\n\u001b[0;32m      1\u001b[0m \u001b[38;5;28;01mimport\u001b[39;00m \u001b[38;5;21;01mxlwings\u001b[39;00m \u001b[38;5;28;01mas\u001b[39;00m \u001b[38;5;21;01mxw\u001b[39;00m\n\u001b[1;32m----> 3\u001b[0m wb \u001b[38;5;241m=\u001b[39m xw\u001b[38;5;241m.\u001b[39mBook(\u001b[38;5;124m\"\u001b[39m\u001b[38;5;124mtest.xlsx\u001b[39m\u001b[38;5;124m\"\u001b[39m)\n\u001b[0;32m      4\u001b[0m sht \u001b[38;5;241m=\u001b[39m wb\u001b[38;5;241m.\u001b[39msheets[\u001b[38;5;124m'\u001b[39m\u001b[38;5;124mЛист1\u001b[39m\u001b[38;5;124m'\u001b[39m]\n\u001b[0;32m      5\u001b[0m sht\u001b[38;5;241m.\u001b[39mrange(\u001b[38;5;124m'\u001b[39m\u001b[38;5;124mA1\u001b[39m\u001b[38;5;124m'\u001b[39m)\u001b[38;5;241m.\u001b[39mvalue \u001b[38;5;241m=\u001b[39m \u001b[38;5;124m'\u001b[39m\u001b[38;5;124mahaha\u001b[39m\u001b[38;5;124m'\u001b[39m\n",
      "File \u001b[1;32mD:\\Anaconda\\Lib\\site-packages\\xlwings\\main.py:911\u001b[0m, in \u001b[0;36mBook.__init__\u001b[1;34m(self, fullname, update_links, read_only, format, password, write_res_password, ignore_read_only_recommended, origin, delimiter, editable, notify, converter, add_to_mru, local, corrupt_load, impl, json, mode, engine)\u001b[0m\n\u001b[0;32m    909\u001b[0m     \u001b[38;5;28;01mif\u001b[39;00m \u001b[38;5;129;01mnot\u001b[39;00m app:\n\u001b[0;32m    910\u001b[0m         app \u001b[38;5;241m=\u001b[39m App(add_book\u001b[38;5;241m=\u001b[39m\u001b[38;5;28;01mFalse\u001b[39;00m)\n\u001b[1;32m--> 911\u001b[0m     impl \u001b[38;5;241m=\u001b[39m app\u001b[38;5;241m.\u001b[39mbooks\u001b[38;5;241m.\u001b[39mopen(\n\u001b[0;32m    912\u001b[0m         fullname,\n\u001b[0;32m    913\u001b[0m         update_links,\n\u001b[0;32m    914\u001b[0m         read_only,\n\u001b[0;32m    915\u001b[0m         \u001b[38;5;28mformat\u001b[39m,\n\u001b[0;32m    916\u001b[0m         password,\n\u001b[0;32m    917\u001b[0m         write_res_password,\n\u001b[0;32m    918\u001b[0m         ignore_read_only_recommended,\n\u001b[0;32m    919\u001b[0m         origin,\n\u001b[0;32m    920\u001b[0m         delimiter,\n\u001b[0;32m    921\u001b[0m         editable,\n\u001b[0;32m    922\u001b[0m         notify,\n\u001b[0;32m    923\u001b[0m         converter,\n\u001b[0;32m    924\u001b[0m         add_to_mru,\n\u001b[0;32m    925\u001b[0m         local,\n\u001b[0;32m    926\u001b[0m         corrupt_load,\n\u001b[0;32m    927\u001b[0m     )\u001b[38;5;241m.\u001b[39mimpl\n\u001b[0;32m    928\u001b[0m \u001b[38;5;28;01melif\u001b[39;00m \u001b[38;5;28mlen\u001b[39m(candidates) \u001b[38;5;241m>\u001b[39m \u001b[38;5;241m1\u001b[39m:\n\u001b[0;32m    929\u001b[0m     \u001b[38;5;28;01mraise\u001b[39;00m \u001b[38;5;167;01mException\u001b[39;00m(\n\u001b[0;32m    930\u001b[0m         \u001b[38;5;124m\"\u001b[39m\u001b[38;5;124mWorkbook \u001b[39m\u001b[38;5;124m'\u001b[39m\u001b[38;5;132;01m%s\u001b[39;00m\u001b[38;5;124m'\u001b[39m\u001b[38;5;124m is open in more than one Excel instance.\u001b[39m\u001b[38;5;124m\"\u001b[39m\n\u001b[0;32m    931\u001b[0m         \u001b[38;5;241m%\u001b[39m fullname\n\u001b[0;32m    932\u001b[0m     )\n",
      "File \u001b[1;32mD:\\Anaconda\\Lib\\site-packages\\xlwings\\main.py:5009\u001b[0m, in \u001b[0;36mBooks.open\u001b[1;34m(self, fullname, update_links, read_only, format, password, write_res_password, ignore_read_only_recommended, origin, delimiter, editable, notify, converter, add_to_mru, local, corrupt_load, json)\u001b[0m\n\u001b[0;32m   5007\u001b[0m fullname \u001b[38;5;241m=\u001b[39m utils\u001b[38;5;241m.\u001b[39mfspath(fullname)\n\u001b[0;32m   5008\u001b[0m \u001b[38;5;28;01mif\u001b[39;00m \u001b[38;5;129;01mnot\u001b[39;00m os\u001b[38;5;241m.\u001b[39mpath\u001b[38;5;241m.\u001b[39mexists(fullname):\n\u001b[1;32m-> 5009\u001b[0m     \u001b[38;5;28;01mraise\u001b[39;00m \u001b[38;5;167;01mFileNotFoundError\u001b[39;00m(\u001b[38;5;124m\"\u001b[39m\u001b[38;5;124mNo such file: \u001b[39m\u001b[38;5;124m'\u001b[39m\u001b[38;5;132;01m%s\u001b[39;00m\u001b[38;5;124m'\u001b[39m\u001b[38;5;124m\"\u001b[39m \u001b[38;5;241m%\u001b[39m fullname)\n\u001b[0;32m   5010\u001b[0m fullname \u001b[38;5;241m=\u001b[39m os\u001b[38;5;241m.\u001b[39mpath\u001b[38;5;241m.\u001b[39mrealpath(fullname)\n\u001b[0;32m   5011\u001b[0m _, name \u001b[38;5;241m=\u001b[39m os\u001b[38;5;241m.\u001b[39mpath\u001b[38;5;241m.\u001b[39msplit(fullname)\n",
      "\u001b[1;31mFileNotFoundError\u001b[0m: No such file: 'test.xlsx'"
     ]
    }
   ],
   "source": [
    "import xlwings as xw\n",
    "\n",
    "wb = xw.Book(\"test.xlsx\")\n",
    "sht = wb.sheets['Лист1']\n",
    "sht.range('A1').value = 'ahaha'\n",
    "print(sht.range('A1').value)"
   ]
  },
  {
   "cell_type": "code",
   "execution_count": null,
   "id": "0ad9d8ae-cc74-4164-a21c-6e6dd05c11a4",
   "metadata": {},
   "outputs": [],
   "source": []
  }
 ],
 "metadata": {
  "kernelspec": {
   "display_name": "Python 3 (ipykernel)",
   "language": "python",
   "name": "python3"
  },
  "language_info": {
   "codemirror_mode": {
    "name": "ipython",
    "version": 3
   },
   "file_extension": ".py",
   "mimetype": "text/x-python",
   "name": "python",
   "nbconvert_exporter": "python",
   "pygments_lexer": "ipython3",
   "version": "3.11.7"
  }
 },
 "nbformat": 4,
 "nbformat_minor": 5
}
