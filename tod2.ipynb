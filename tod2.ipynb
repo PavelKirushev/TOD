{
 "cells": [
  {
   "cell_type": "markdown",
   "id": "3acf1086-ec1e-448d-8dc5-f354135a4f39",
   "metadata": {},
   "source": [
    "Полезные функции\n",
    "df.groupby(name)[item].sum() - группировка по столбцу name и суммирование столбца item\n",
    "pd.merge(df1,df2) - объединение df1, df2\n",
    "recipes.shape - размерность\n",
    "recipes.dtypes - тип данных каждого столбца\n",
    "recipes.sample(n=10)['name'] - 10 случайных значение из столбца name\n",
    "reviews.index = pd.RangeIndex(start=0, stop=len(reviews)) - проход по диапозону\n",
    "mask = (recipes['minutes'] <= 20) & (recipes['n_ingredients'] <= 5) - пример маски\n",
    "filtered_recipes = recipes[mask] - фильтрация по маске\n",
    "df.drop(labels=[\"stroka\", 2]) - удаление строк со значением stroka и 2\n",
    "df.sum - сумма\n",
    "df.mean - ср знач\n",
    "df.astype(np.int16) - приведение к типу данных\n",
    "df.info() - статистика\n",
    "df.describe() - сумм статистичка по столбцам"
   ]
  },
  {
   "cell_type": "markdown",
   "id": "bfe75717-9b11-47c5-b513-5043b1026cf2",
   "metadata": {},
   "source": [
    "1. Загрузите данные из файла `sp500hst.txt` и обозначьте столбцы в соответствии с содержимым: `\"date\", \"ticker\", \"open\", \"high\", \"low\", \"close\", \"volume\"`."
   ]
  },
  {
   "cell_type": "code",
   "execution_count": 5,
   "id": "85fe2d55-c133-4585-bd6d-e98284dc655e",
   "metadata": {},
   "outputs": [
    {
     "name": "stdout",
     "output_type": "stream",
     "text": [
      "            date ticker   open     high     low  close  volume\n",
      "0       20090821      A  25.60  25.6100  25.220  25.55   34758\n",
      "1       20090824      A  25.64  25.7400  25.330  25.50   22247\n",
      "2       20090825      A  25.50  25.7000  25.225  25.34   30891\n",
      "3       20090826      A  25.32  25.6425  25.145  25.48   33334\n",
      "4       20090827      A  25.50  25.5700  25.230  25.54   70176\n",
      "...          ...    ...    ...      ...     ...    ...     ...\n",
      "122569  20100813    ZMH  51.72  51.9000  51.380  51.44   14561\n",
      "122570  20100816    ZMH  51.13  51.4700  50.600  51.00   13489\n",
      "122571  20100817    ZMH  51.14  51.6000  50.890  51.21   20498\n",
      "122572  20100819    ZMH  51.63  51.6300  50.170  50.22   18259\n",
      "122573  20100820    ZMH  50.03  50.5500  49.480  49.82   17792\n",
      "\n",
      "[122574 rows x 7 columns]\n"
     ]
    }
   ],
   "source": [
    "import pandas as pd\n",
    "\n",
    "df = pd.read_csv(\"sp500hst.txt\", header=None)\n",
    "df.columns = [\"date\", \"ticker\", \"open\", \"high\", \"low\", \"close\", \"volume\"]\n",
    "print(df)"
   ]
  },
  {
   "cell_type": "markdown",
   "id": "84d554ec-5a9d-4417-b38a-513633575b12",
   "metadata": {},
   "source": [
    "2. Рассчитайте среднее значение показателей для каждого из столбцов c номерами 3-6."
   ]
  },
  {
   "cell_type": "code",
   "execution_count": 6,
   "id": "2b742351-c57d-4305-9800-ae4768d380ef",
   "metadata": {},
   "outputs": [
    {
     "name": "stdout",
     "output_type": "stream",
     "text": [
      "42.5954576590471\n"
     ]
    }
   ],
   "source": [
    "print(sum(df[\"open\"]) / len(df[\"open\"]))"
   ]
  },
  {
   "cell_type": "markdown",
   "id": "cb2e1c55-f668-4a7a-a314-e884004d95c9",
   "metadata": {},
   "source": [
    "3. Добавьте столбец, содержащий только число месяца, к которому относится дата."
   ]
  },
  {
   "cell_type": "code",
   "execution_count": 7,
   "id": "dd608e25-0b6b-4b2a-bafe-6bd0e0fbe2ce",
   "metadata": {},
   "outputs": [
    {
     "name": "stdout",
     "output_type": "stream",
     "text": [
      "            date ticker   open     high     low  close  volume  month\n",
      "0       20090821      A  25.60  25.6100  25.220  25.55   34758      8\n",
      "1       20090824      A  25.64  25.7400  25.330  25.50   22247      8\n",
      "2       20090825      A  25.50  25.7000  25.225  25.34   30891      8\n",
      "3       20090826      A  25.32  25.6425  25.145  25.48   33334      8\n",
      "4       20090827      A  25.50  25.5700  25.230  25.54   70176      8\n",
      "...          ...    ...    ...      ...     ...    ...     ...    ...\n",
      "122569  20100813    ZMH  51.72  51.9000  51.380  51.44   14561      8\n",
      "122570  20100816    ZMH  51.13  51.4700  50.600  51.00   13489      8\n",
      "122571  20100817    ZMH  51.14  51.6000  50.890  51.21   20498      8\n",
      "122572  20100819    ZMH  51.63  51.6300  50.170  50.22   18259      8\n",
      "122573  20100820    ZMH  50.03  50.5500  49.480  49.82   17792      8\n",
      "\n",
      "[122574 rows x 8 columns]\n"
     ]
    }
   ],
   "source": [
    "df[\"month\"] = (df[\"date\"] // 100) % 100\n",
    "print(df)"
   ]
  },
  {
   "cell_type": "markdown",
   "id": "cbee31bb-d07b-435d-8817-859a10dd29f3",
   "metadata": {},
   "source": [
    "4. Рассчитайте суммарный объем торгов для для одинаковых значений тикеров."
   ]
  },
  {
   "cell_type": "code",
   "execution_count": 8,
   "id": "1f83a63c-431c-4ff1-af13-414e6ceb1b06",
   "metadata": {},
   "outputs": [
    {
     "name": "stdout",
     "output_type": "stream",
     "text": [
      "ticker\n",
      "A        8609336\n",
      "AA      81898998\n",
      "AAPL    52261170\n",
      "ABC      9006756\n",
      "ABT     18975870\n",
      "          ...   \n",
      "XTO     21297931\n",
      "YHOO    56837171\n",
      "YUM     10971538\n",
      "ZION    15551119\n",
      "ZMH      4938916\n",
      "Name: volume, Length: 524, dtype: int64\n"
     ]
    }
   ],
   "source": [
    "# Группировка по столбцу 'ticker' и суммирование значений столбца 'volume'\n",
    "volume_by_ticker = df.groupby(\"ticker\")[\"volume\"].sum()\n",
    "# Вывод результатов\n",
    "print(volume_by_ticker)"
   ]
  },
  {
   "cell_type": "markdown",
   "id": "367af456-879c-40c7-af26-4b5359304e79",
   "metadata": {},
   "source": [
    "5. Загрузите данные из файла sp500hst.txt и обозначьте столбцы в соответствии с содержимым: \"date\", \"ticker\", \"open\", \"high\", \"low\", \"close\", \"volume\". Добавьте столбец с расшифровкой названия тикера, используя данные из файла `sp_data2.csv` . В случае нехватки данных об именах тикеров корректно обработать их."
   ]
  },
  {
   "cell_type": "code",
   "execution_count": 9,
   "id": "3c94caa5-e7e0-428c-91c9-b201fba70f16",
   "metadata": {},
   "outputs": [
    {
     "name": "stdout",
     "output_type": "stream",
     "text": [
      "           date ticker   open     high     low  close  volume  \\\n",
      "0      20090821      A  25.60  25.6100  25.220  25.55   34758   \n",
      "1      20090824      A  25.64  25.7400  25.330  25.50   22247   \n",
      "2      20090825      A  25.50  25.7000  25.225  25.34   30891   \n",
      "3      20090826      A  25.32  25.6425  25.145  25.48   33334   \n",
      "4      20090827      A  25.50  25.5700  25.230  25.54   70176   \n",
      "...         ...    ...    ...      ...     ...    ...     ...   \n",
      "82167  20100813   ZION  20.17  20.4300  19.840  19.89   25193   \n",
      "82168  20100816   ZION  19.81  19.9600  19.600  19.95   25914   \n",
      "82169  20100817   ZION  20.07  20.4700  19.830  20.31   31717   \n",
      "82170  20100819   ZION  19.83  20.0000  19.130  19.35   45935   \n",
      "82171  20100820   ZION  19.15  19.2700  18.810  19.14   37225   \n",
      "\n",
      "                       name percent  \n",
      "0      Agilent Technologies    0.1%  \n",
      "1      Agilent Technologies    0.1%  \n",
      "2      Agilent Technologies    0.1%  \n",
      "3      Agilent Technologies    0.1%  \n",
      "4      Agilent Technologies    0.1%  \n",
      "...                     ...     ...  \n",
      "82167         Zions Bancorp    0.0%  \n",
      "82168         Zions Bancorp    0.0%  \n",
      "82169         Zions Bancorp    0.0%  \n",
      "82170         Zions Bancorp    0.0%  \n",
      "82171         Zions Bancorp    0.0%  \n",
      "\n",
      "[82172 rows x 9 columns]\n"
     ]
    }
   ],
   "source": [
    "df1 = pd.read_csv('sp500hst.txt', delimiter=',', names=[\"date\", \"ticker\", \"open\", \"high\", \"low\", \"close\", \"volume\"])\n",
    "df2 = pd.read_csv('sp_data2.csv', delimiter=';', names=[\"ticker\", \"name\", \"percent\"])\n",
    "df = pd.merge(df1, df2)\n",
    "print(df) "
   ]
  },
  {
   "cell_type": "markdown",
   "id": "0e4225b3-7a20-4df4-bd43-47ed6d0b9dd9",
   "metadata": {},
   "source": [
    "1.1 В файлах `recipes_sample.csv` и `reviews_sample.csv` находится информация об рецептах блюд и отзывах на эти рецепты соответственно. Загрузите данные из файлов в виде `pd.DataFrame` с названиями `recipes` и `reviews`. Обратите внимание на корректное считывание столбца с индексами в таблице `reviews` (безымянный столбец)."
   ]
  },
  {
   "cell_type": "code",
   "execution_count": 13,
   "id": "8199b3f4-ede7-4e21-955f-236f82751f5e",
   "metadata": {},
   "outputs": [
    {
     "name": "stdout",
     "output_type": "stream",
     "text": [
      "recipes:\n",
      "                                                name      id  minutes  \\\n",
      "0             george s at the cove  black bean soup   44123       90   \n",
      "1                healthy for them  yogurt popsicles   67664       10   \n",
      "2                      i can t believe it s spinach   38798       30   \n",
      "3                              italian  gut busters   35173       45   \n",
      "4          love is in the air  beef fondue   sauces   84797       25   \n",
      "...                                             ...     ...      ...   \n",
      "29995  zurie s holey rustic olive and cheddar bread  267661       80   \n",
      "29996          zwetschgenkuchen  bavarian plum cake  386977      240   \n",
      "29997   zwiebelkuchen   southwest german onion cake  103312       75   \n",
      "29998                                   zydeco soup  486161       60   \n",
      "29999        cookies by design   cookies on a stick  298512       29   \n",
      "\n",
      "       contributor_id   submitted  n_steps  \\\n",
      "0               35193  2002-10-25      NaN   \n",
      "1               91970  2003-07-26      NaN   \n",
      "2                1533  2002-08-29      NaN   \n",
      "3               22724  2002-07-27      NaN   \n",
      "4                4470  2004-02-23      4.0   \n",
      "...               ...         ...      ...   \n",
      "29995          200862  2007-11-25     16.0   \n",
      "29996          177443  2009-08-24      NaN   \n",
      "29997          161745  2004-11-03      NaN   \n",
      "29998          227978  2012-08-29      NaN   \n",
      "29999          506822  2008-04-15      9.0   \n",
      "\n",
      "                                             description  n_ingredients  \n",
      "0      an original recipe created by chef scott meska...           18.0  \n",
      "1      my children and their friends ask for my homem...            NaN  \n",
      "2                these were so go, it surprised even me.            8.0  \n",
      "3      my sister-in-law made these for us at a family...            NaN  \n",
      "4      i think a fondue is a very romantic casual din...            NaN  \n",
      "...                                                  ...            ...  \n",
      "29995  this is based on a french recipe but i changed...           10.0  \n",
      "29996  this is a traditional fresh plum cake, thought...           11.0  \n",
      "29997  this is a traditional late summer early fall s...            NaN  \n",
      "29998  this is a delicious soup that i originally fou...            NaN  \n",
      "29999  i've heard of the 'cookies by design' company,...           10.0  \n",
      "\n",
      "[30000 rows x 8 columns]\n",
      "reviews:\n",
      "             user_id  recipe_id        date  rating  \\\n",
      "370476        21752      57993  2003-05-01       5   \n",
      "624300       431813     142201  2007-09-16       5   \n",
      "187037       400708     252013  2008-01-10       4   \n",
      "706134   2001852463     404716  2017-12-11       5   \n",
      "312179        95810     129396  2008-03-14       5   \n",
      "...             ...        ...         ...     ...   \n",
      "1013457     1270706     335534  2009-05-17       4   \n",
      "158736      2282344       8701  2012-06-03       0   \n",
      "1059834      689540     222001  2008-04-08       5   \n",
      "453285   2000242659     354979  2015-06-02       5   \n",
      "691207       463435     415599  2010-09-30       5   \n",
      "\n",
      "                                                    review  \n",
      "370476   Last week whole sides of frozen salmon fillet ...  \n",
      "624300   So simple and so tasty!  I used a yellow capsi...  \n",
      "187037   Very nice breakfast HH, easy to make and yummy...  \n",
      "706134   These are a favorite for the holidays and so e...  \n",
      "312179   Excellent soup!  The tomato flavor is just gre...  \n",
      "...                                                    ...  \n",
      "1013457  This recipe was great! I made it last night. I...  \n",
      "158736   This recipe is outstanding. I followed the rec...  \n",
      "1059834  Well, we were not a crowd but it was a fabulou...  \n",
      "453285   I have been a steak eater and dedicated BBQ gr...  \n",
      "691207   Wonderful and simple to prepare seasoning blen...  \n",
      "\n",
      "[126696 rows x 5 columns]\n"
     ]
    }
   ],
   "source": [
    "import pandas as pd\n",
    "\n",
    "# загрузка данных из файла recipes_sample.csv\n",
    "recipes = pd.read_csv('recipes_sample.csv')\n",
    "\n",
    "# загрузка данных из файла reviews_sample.csv с учетом безымянного столбца (индексов)\n",
    "reviews = pd.read_csv('reviews_sample.csv', index_col=0)\n",
    "\n",
    "print(\"recipes:\\n\", recipes)\n",
    "print(\"reviews:\\n\", reviews)"
   ]
  },
  {
   "cell_type": "markdown",
   "id": "d4c7f55e-991c-4b45-bf2b-8efd1bfadcde",
   "metadata": {},
   "source": [
    "1.2 Для каждой из таблиц выведите основные параметры:\n",
    "* количество точек данных (строк);\n",
    "* количество столбцов;\n",
    "* тип данных каждого столбца."
   ]
  },
  {
   "cell_type": "code",
   "execution_count": 18,
   "id": "335ecd21-8aa4-4f8d-90a2-44a1f03ae833",
   "metadata": {},
   "outputs": [
    {
     "name": "stdout",
     "output_type": "stream",
     "text": [
      "recipes\n",
      "\n",
      "количество точек данных (строк): 30000\n",
      "количество столбцов: 8\n",
      "тип данных каждого столбца:\n",
      " name               object\n",
      "id                  int64\n",
      "minutes             int64\n",
      "contributor_id      int64\n",
      "submitted          object\n",
      "n_steps           float64\n",
      "description        object\n",
      "n_ingredients     float64\n",
      "dtype: object\n",
      "\n",
      "reviews\n",
      "\n",
      "количество точек данных (строк): 126696\n",
      "количество столбцов: 5\n",
      "тип данных каждого столбца:\n",
      " user_id       int64\n",
      "recipe_id     int64\n",
      "date         object\n",
      "rating        int64\n",
      "review       object\n",
      "dtype: object\n"
     ]
    }
   ],
   "source": [
    "print(\"recipes\\n\\nколичество точек данных (строк):\", recipes.shape[0])\n",
    "print(\"количество столбцов:\", recipes.shape[1])\n",
    "print(\"тип данных каждого столбца:\\n\", recipes.dtypes)\n",
    "\n",
    "print(\"\\nreviews\\n\\nколичество точек данных (строк):\", reviews.shape[0])\n",
    "print(\"количество столбцов:\", reviews.shape[1])\n",
    "print(\"тип данных каждого столбца:\\n\", reviews.dtypes)"
   ]
  },
  {
   "cell_type": "markdown",
   "id": "0ae31dc7-8256-4349-864a-255bb598067b",
   "metadata": {},
   "source": [
    "1.3 Исследуйте, в каких столбцах таблиц содержатся пропуски. Посчитайте долю строк, содержащих пропуски, в отношении к общему количеству строк."
   ]
  },
  {
   "cell_type": "code",
   "execution_count": 23,
   "id": "3bb5e3ff-f4fe-4555-b613-5380e0a2b097",
   "metadata": {},
   "outputs": [
    {
     "name": "stdout",
     "output_type": "stream",
     "text": [
      "recipes: 56.847%\n",
      "reviews: 0.013%\n"
     ]
    }
   ],
   "source": [
    "recipes_rows_with_missings = recipes.isna().any(axis=1).sum()#isna() используется для определения отсутствующих значений (NaN)\n",
    "recipes_percentage_missings = round((recipes_rows_with_missings / recipes.shape[0]) * 100, 3)\n",
    "print(f\"recipes: {recipes_percentage_missings:}%\")\n",
    "\n",
    "reviews_rows_with_missings = reviews.isna().any(axis=1).sum()\n",
    "reviews_percentage_missings = round((reviews_rows_with_missings / reviews.shape[0]) * 100, 3)\n",
    "print(f\"reviews: {reviews_percentage_missings:}%\")"
   ]
  },
  {
   "cell_type": "markdown",
   "id": "b74fbec0-c3db-4d71-9443-05ca1a28dc4d",
   "metadata": {},
   "source": [
    "1.4 Рассчитайте среднее значение для каждого из числовых столбцов (где это имеет смысл)."
   ]
  },
  {
   "cell_type": "code",
   "execution_count": 28,
   "id": "25598221-d56f-4bf1-b5de-9f91b630028f",
   "metadata": {},
   "outputs": [
    {
     "name": "stdout",
     "output_type": "stream",
     "text": [
      "recipes:\n",
      " id                2.218793e+05\n",
      "minutes           1.233581e+02\n",
      "contributor_id    5.635901e+06\n",
      "n_steps           9.805582e+00\n",
      "n_ingredients     9.008286e+00\n",
      "dtype: float64\n",
      "\n",
      "\n",
      "reviews:\n",
      " user_id      1.408013e+08\n",
      "recipe_id    1.600944e+05\n",
      "rating       4.410802e+00\n",
      "dtype: float64\n"
     ]
    }
   ],
   "source": [
    "# выберем только числовые столбцы в таблице recipes и rewiews и рассчитаем их средние значения\n",
    "recipes_mean_values = recipes.select_dtypes(include=['int64', 'float64']).mean()\n",
    "print(\"recipes:\\n\", recipes_mean_values)\n",
    "\n",
    "reviews_mean_values = reviews.select_dtypes(include=['int64', 'float64']).mean()\n",
    "print(\"\\n\\nreviews:\\n\", reviews_mean_values)"
   ]
  },
  {
   "cell_type": "markdown",
   "id": "deee1ddc-70da-4253-b217-8ccd0bd1bbe6",
   "metadata": {},
   "source": [
    "1.5 Создайте серию из 10 случайных названий рецептов."
   ]
  },
  {
   "cell_type": "code",
   "execution_count": 25,
   "id": "e9a55223-23ba-4b13-9f4c-7dc396b828b5",
   "metadata": {},
   "outputs": [
    {
     "name": "stdout",
     "output_type": "stream",
     "text": [
      "10702           fall bratwurst with apples and onions\n",
      "11754                              garlic basil bread\n",
      "21447                    potato tomato coconut masala\n",
      "2550                 bean  potato and sauerkraut soup\n",
      "319                      acini di pepe ambrosia salad\n",
      "14530                 internal detox for glowing skin\n",
      "13620                                herb quick bread\n",
      "19115    olive garden   beef filets in balsamic sauce\n",
      "359                                     afghan monkey\n",
      "8955                        curried broccoli toasties\n",
      "Name: name, dtype: object\n"
     ]
    }
   ],
   "source": [
    "random_recipes = recipes.sample(n=10)['name']\n",
    "print(random_recipes)"
   ]
  },
  {
   "cell_type": "markdown",
   "id": "d1b63664-b26a-43bc-b9b3-88b126144a72",
   "metadata": {},
   "source": [
    "1.6 Измените индекс в таблице `reviews`, пронумеровав строки, начиная с нуля."
   ]
  },
  {
   "cell_type": "code",
   "execution_count": 24,
   "id": "f9caefdb-5ba9-4eca-9abe-f6a10c3a9a26",
   "metadata": {},
   "outputs": [
    {
     "name": "stdout",
     "output_type": "stream",
     "text": [
      "           user_id  recipe_id        date  rating  \\\n",
      "0            21752      57993  2003-05-01       5   \n",
      "1           431813     142201  2007-09-16       5   \n",
      "2           400708     252013  2008-01-10       4   \n",
      "3       2001852463     404716  2017-12-11       5   \n",
      "4            95810     129396  2008-03-14       5   \n",
      "...            ...        ...         ...     ...   \n",
      "126691     1270706     335534  2009-05-17       4   \n",
      "126692     2282344       8701  2012-06-03       0   \n",
      "126693      689540     222001  2008-04-08       5   \n",
      "126694  2000242659     354979  2015-06-02       5   \n",
      "126695      463435     415599  2010-09-30       5   \n",
      "\n",
      "                                                   review  \n",
      "0       Last week whole sides of frozen salmon fillet ...  \n",
      "1       So simple and so tasty!  I used a yellow capsi...  \n",
      "2       Very nice breakfast HH, easy to make and yummy...  \n",
      "3       These are a favorite for the holidays and so e...  \n",
      "4       Excellent soup!  The tomato flavor is just gre...  \n",
      "...                                                   ...  \n",
      "126691  This recipe was great! I made it last night. I...  \n",
      "126692  This recipe is outstanding. I followed the rec...  \n",
      "126693  Well, we were not a crowd but it was a fabulou...  \n",
      "126694  I have been a steak eater and dedicated BBQ gr...  \n",
      "126695  Wonderful and simple to prepare seasoning blen...  \n",
      "\n",
      "[126696 rows x 5 columns]\n"
     ]
    }
   ],
   "source": [
    "reviews.index = pd.RangeIndex(start=0, stop=len(reviews))\n",
    "print(reviews)"
   ]
  },
  {
   "cell_type": "markdown",
   "id": "7b622b35-c2bb-4061-b0a0-e41c77598262",
   "metadata": {},
   "source": [
    "1.7 Выведите информацию о рецептах, время выполнения которых не больше 20 минут и кол-во ингредиентов в которых не больше 5."
   ]
  },
  {
   "cell_type": "code",
   "execution_count": 26,
   "id": "4f4de8f8-dbf8-48f2-87e9-59d92116f705",
   "metadata": {},
   "outputs": [
    {
     "name": "stdout",
     "output_type": "stream",
     "text": [
      "                                                    name      id  minutes  \\\n",
      "28                                   quick biscuit bread  302399       20   \n",
      "60                         peas  fit for a king or queen  303944       20   \n",
      "90                     hawaiian sunrise           mimosa  100837        5   \n",
      "91            tasty dish s   banana pudding in 2 minutes  286484        2   \n",
      "94                                    1 minute meatballs   11361       13   \n",
      "...                                                  ...     ...      ...   \n",
      "29873  zip and steam red potatoes with butter and garlic  304922       13   \n",
      "29874                          ziplock vanilla ice cream   74250       10   \n",
      "29905                      zucchini and corn with cheese  256177       15   \n",
      "29980               zucchini with jalapeno monterey jack  320622       10   \n",
      "29983                          zucchini with serrano ham  162411       15   \n",
      "\n",
      "       contributor_id   submitted  n_steps  \\\n",
      "28             213909  2008-05-06     11.0   \n",
      "60             213909  2008-05-16      NaN   \n",
      "90              58104  2004-09-29      4.0   \n",
      "91              47892  2008-02-13      NaN   \n",
      "94               4470  2001-09-03      NaN   \n",
      "...               ...         ...      ...   \n",
      "29873          724218  2008-05-27      9.0   \n",
      "29874           24386  2003-10-29      8.0   \n",
      "29905          305531  2007-09-29      4.0   \n",
      "29980          305531  2008-08-20      3.0   \n",
      "29983          152500  2006-03-31      6.0   \n",
      "\n",
      "                                             description  n_ingredients  \n",
      "28     this is a wonderful quick bread to make as an ...            5.0  \n",
      "60     this recipe is so simple and the flavors are s...            5.0  \n",
      "90     pineapple mimosa was changed to hawaiian sunri...            3.0  \n",
      "91     \"mmmm, i love bananas!\" a --tasty dish-- origi...            4.0  \n",
      "94     this is a real short cut for cooks in a hurry....            2.0  \n",
      "...                                                  ...            ...  \n",
      "29873  i haven't tried this yet, but i am going to so...            5.0  \n",
      "29874  a fun thing for kids to do. may want to use mi...            3.0  \n",
      "29905  from betty crocker fresh spring recipes. i lik...            5.0  \n",
      "29980                                  simple and yummy!            3.0  \n",
      "29983  this dish is from tim malzer, a german chef wh...            5.0  \n",
      "\n",
      "[2019 rows x 8 columns]\n"
     ]
    }
   ],
   "source": [
    "mask = (recipes['minutes'] <= 20) & (recipes['n_ingredients'] <= 5)\n",
    "filtered_recipes = recipes[mask]\n",
    "print(filtered_recipes)"
   ]
  },
  {
   "cell_type": "markdown",
   "id": "703c8ba3-cb84-4337-a85d-8e7a847b108f",
   "metadata": {},
   "source": [
    "2.1 Преобразуйте столбец `submitted` из таблицы `recipes` в формат времени. Модифицируйте решение задачи 1.1 так, чтобы считать столбец сразу в нужном формате."
   ]
  },
  {
   "cell_type": "code",
   "execution_count": 30,
   "id": "6439d764-2ce2-4897-94e8-d21f96c2d096",
   "metadata": {},
   "outputs": [
    {
     "data": {
      "text/html": [
       "<div>\n",
       "<style scoped>\n",
       "    .dataframe tbody tr th:only-of-type {\n",
       "        vertical-align: middle;\n",
       "    }\n",
       "\n",
       "    .dataframe tbody tr th {\n",
       "        vertical-align: top;\n",
       "    }\n",
       "\n",
       "    .dataframe thead th {\n",
       "        text-align: right;\n",
       "    }\n",
       "</style>\n",
       "<table border=\"1\" class=\"dataframe\">\n",
       "  <thead>\n",
       "    <tr style=\"text-align: right;\">\n",
       "      <th></th>\n",
       "      <th>name</th>\n",
       "      <th>id</th>\n",
       "      <th>minutes</th>\n",
       "      <th>contributor_id</th>\n",
       "      <th>submitted</th>\n",
       "      <th>n_steps</th>\n",
       "      <th>description</th>\n",
       "      <th>n_ingredients</th>\n",
       "    </tr>\n",
       "  </thead>\n",
       "  <tbody>\n",
       "    <tr>\n",
       "      <th>0</th>\n",
       "      <td>george s at the cove  black bean soup</td>\n",
       "      <td>44123</td>\n",
       "      <td>90</td>\n",
       "      <td>35193</td>\n",
       "      <td>2002-10-25</td>\n",
       "      <td>NaN</td>\n",
       "      <td>an original recipe created by chef scott meska...</td>\n",
       "      <td>18.0</td>\n",
       "    </tr>\n",
       "    <tr>\n",
       "      <th>1</th>\n",
       "      <td>healthy for them  yogurt popsicles</td>\n",
       "      <td>67664</td>\n",
       "      <td>10</td>\n",
       "      <td>91970</td>\n",
       "      <td>2003-07-26</td>\n",
       "      <td>NaN</td>\n",
       "      <td>my children and their friends ask for my homem...</td>\n",
       "      <td>NaN</td>\n",
       "    </tr>\n",
       "    <tr>\n",
       "      <th>2</th>\n",
       "      <td>i can t believe it s spinach</td>\n",
       "      <td>38798</td>\n",
       "      <td>30</td>\n",
       "      <td>1533</td>\n",
       "      <td>2002-08-29</td>\n",
       "      <td>NaN</td>\n",
       "      <td>these were so go, it surprised even me.</td>\n",
       "      <td>8.0</td>\n",
       "    </tr>\n",
       "    <tr>\n",
       "      <th>3</th>\n",
       "      <td>italian  gut busters</td>\n",
       "      <td>35173</td>\n",
       "      <td>45</td>\n",
       "      <td>22724</td>\n",
       "      <td>2002-07-27</td>\n",
       "      <td>NaN</td>\n",
       "      <td>my sister-in-law made these for us at a family...</td>\n",
       "      <td>NaN</td>\n",
       "    </tr>\n",
       "    <tr>\n",
       "      <th>4</th>\n",
       "      <td>love is in the air  beef fondue   sauces</td>\n",
       "      <td>84797</td>\n",
       "      <td>25</td>\n",
       "      <td>4470</td>\n",
       "      <td>2004-02-23</td>\n",
       "      <td>4.0</td>\n",
       "      <td>i think a fondue is a very romantic casual din...</td>\n",
       "      <td>NaN</td>\n",
       "    </tr>\n",
       "    <tr>\n",
       "      <th>...</th>\n",
       "      <td>...</td>\n",
       "      <td>...</td>\n",
       "      <td>...</td>\n",
       "      <td>...</td>\n",
       "      <td>...</td>\n",
       "      <td>...</td>\n",
       "      <td>...</td>\n",
       "      <td>...</td>\n",
       "    </tr>\n",
       "    <tr>\n",
       "      <th>29995</th>\n",
       "      <td>zurie s holey rustic olive and cheddar bread</td>\n",
       "      <td>267661</td>\n",
       "      <td>80</td>\n",
       "      <td>200862</td>\n",
       "      <td>2007-11-25</td>\n",
       "      <td>16.0</td>\n",
       "      <td>this is based on a french recipe but i changed...</td>\n",
       "      <td>10.0</td>\n",
       "    </tr>\n",
       "    <tr>\n",
       "      <th>29996</th>\n",
       "      <td>zwetschgenkuchen  bavarian plum cake</td>\n",
       "      <td>386977</td>\n",
       "      <td>240</td>\n",
       "      <td>177443</td>\n",
       "      <td>2009-08-24</td>\n",
       "      <td>NaN</td>\n",
       "      <td>this is a traditional fresh plum cake, thought...</td>\n",
       "      <td>11.0</td>\n",
       "    </tr>\n",
       "    <tr>\n",
       "      <th>29997</th>\n",
       "      <td>zwiebelkuchen   southwest german onion cake</td>\n",
       "      <td>103312</td>\n",
       "      <td>75</td>\n",
       "      <td>161745</td>\n",
       "      <td>2004-11-03</td>\n",
       "      <td>NaN</td>\n",
       "      <td>this is a traditional late summer early fall s...</td>\n",
       "      <td>NaN</td>\n",
       "    </tr>\n",
       "    <tr>\n",
       "      <th>29998</th>\n",
       "      <td>zydeco soup</td>\n",
       "      <td>486161</td>\n",
       "      <td>60</td>\n",
       "      <td>227978</td>\n",
       "      <td>2012-08-29</td>\n",
       "      <td>NaN</td>\n",
       "      <td>this is a delicious soup that i originally fou...</td>\n",
       "      <td>NaN</td>\n",
       "    </tr>\n",
       "    <tr>\n",
       "      <th>29999</th>\n",
       "      <td>cookies by design   cookies on a stick</td>\n",
       "      <td>298512</td>\n",
       "      <td>29</td>\n",
       "      <td>506822</td>\n",
       "      <td>2008-04-15</td>\n",
       "      <td>9.0</td>\n",
       "      <td>i've heard of the 'cookies by design' company,...</td>\n",
       "      <td>10.0</td>\n",
       "    </tr>\n",
       "  </tbody>\n",
       "</table>\n",
       "<p>30000 rows × 8 columns</p>\n",
       "</div>"
      ],
      "text/plain": [
       "                                               name      id  minutes  \\\n",
       "0             george s at the cove  black bean soup   44123       90   \n",
       "1                healthy for them  yogurt popsicles   67664       10   \n",
       "2                      i can t believe it s spinach   38798       30   \n",
       "3                              italian  gut busters   35173       45   \n",
       "4          love is in the air  beef fondue   sauces   84797       25   \n",
       "...                                             ...     ...      ...   \n",
       "29995  zurie s holey rustic olive and cheddar bread  267661       80   \n",
       "29996          zwetschgenkuchen  bavarian plum cake  386977      240   \n",
       "29997   zwiebelkuchen   southwest german onion cake  103312       75   \n",
       "29998                                   zydeco soup  486161       60   \n",
       "29999        cookies by design   cookies on a stick  298512       29   \n",
       "\n",
       "       contributor_id  submitted  n_steps  \\\n",
       "0               35193 2002-10-25      NaN   \n",
       "1               91970 2003-07-26      NaN   \n",
       "2                1533 2002-08-29      NaN   \n",
       "3               22724 2002-07-27      NaN   \n",
       "4                4470 2004-02-23      4.0   \n",
       "...               ...        ...      ...   \n",
       "29995          200862 2007-11-25     16.0   \n",
       "29996          177443 2009-08-24      NaN   \n",
       "29997          161745 2004-11-03      NaN   \n",
       "29998          227978 2012-08-29      NaN   \n",
       "29999          506822 2008-04-15      9.0   \n",
       "\n",
       "                                             description  n_ingredients  \n",
       "0      an original recipe created by chef scott meska...           18.0  \n",
       "1      my children and their friends ask for my homem...            NaN  \n",
       "2                these were so go, it surprised even me.            8.0  \n",
       "3      my sister-in-law made these for us at a family...            NaN  \n",
       "4      i think a fondue is a very romantic casual din...            NaN  \n",
       "...                                                  ...            ...  \n",
       "29995  this is based on a french recipe but i changed...           10.0  \n",
       "29996  this is a traditional fresh plum cake, thought...           11.0  \n",
       "29997  this is a traditional late summer early fall s...            NaN  \n",
       "29998  this is a delicious soup that i originally fou...            NaN  \n",
       "29999  i've heard of the 'cookies by design' company,...           10.0  \n",
       "\n",
       "[30000 rows x 8 columns]"
      ]
     },
     "execution_count": 30,
     "metadata": {},
     "output_type": "execute_result"
    }
   ],
   "source": [
    "recipes2 = pd.read_csv('recipes_sample.csv', parse_dates=['submitted'])\n",
    "recipes2"
   ]
  },
  {
   "cell_type": "markdown",
   "id": "5f6112e3-928f-4939-bea0-3ce2c0dde6b4",
   "metadata": {},
   "source": [
    "2.2 Выведите информацию о рецептах, добавленных в датасет не позже 2010 года."
   ]
  },
  {
   "cell_type": "code",
   "execution_count": 33,
   "id": "6065adaf-fb0f-4330-ba6b-936563c8482b",
   "metadata": {},
   "outputs": [
    {
     "name": "stdout",
     "output_type": "stream",
     "text": [
      "                                               name      id  minutes  \\\n",
      "0             george s at the cove  black bean soup   44123       90   \n",
      "1                healthy for them  yogurt popsicles   67664       10   \n",
      "2                      i can t believe it s spinach   38798       30   \n",
      "3                              italian  gut busters   35173       45   \n",
      "4          love is in the air  beef fondue   sauces   84797       25   \n",
      "...                                             ...     ...      ...   \n",
      "29993                     zuni caf zucchini pickles  316950     2895   \n",
      "29995  zurie s holey rustic olive and cheddar bread  267661       80   \n",
      "29996          zwetschgenkuchen  bavarian plum cake  386977      240   \n",
      "29997   zwiebelkuchen   southwest german onion cake  103312       75   \n",
      "29999        cookies by design   cookies on a stick  298512       29   \n",
      "\n",
      "       contributor_id  submitted  n_steps  \\\n",
      "0               35193 2002-10-25      NaN   \n",
      "1               91970 2003-07-26      NaN   \n",
      "2                1533 2002-08-29      NaN   \n",
      "3               22724 2002-07-27      NaN   \n",
      "4                4470 2004-02-23      4.0   \n",
      "...               ...        ...      ...   \n",
      "29993           62264 2008-07-31      NaN   \n",
      "29995          200862 2007-11-25     16.0   \n",
      "29996          177443 2009-08-24      NaN   \n",
      "29997          161745 2004-11-03      NaN   \n",
      "29999          506822 2008-04-15      9.0   \n",
      "\n",
      "                                             description  n_ingredients  \n",
      "0      an original recipe created by chef scott meska...           18.0  \n",
      "1      my children and their friends ask for my homem...            NaN  \n",
      "2                these were so go, it surprised even me.            8.0  \n",
      "3      my sister-in-law made these for us at a family...            NaN  \n",
      "4      i think a fondue is a very romantic casual din...            NaN  \n",
      "...                                                  ...            ...  \n",
      "29993  refrigerator pickles for some of the zucchini ...            8.0  \n",
      "29995  this is based on a french recipe but i changed...           10.0  \n",
      "29996  this is a traditional fresh plum cake, thought...           11.0  \n",
      "29997  this is a traditional late summer early fall s...            NaN  \n",
      "29999  i've heard of the 'cookies by design' company,...           10.0  \n",
      "\n",
      "[27661 rows x 8 columns]\n"
     ]
    }
   ],
   "source": [
    "mask = (recipes2[\"submitted\"].dt.year <= 2010)\n",
    "print(recipes2[mask])"
   ]
  },
  {
   "cell_type": "markdown",
   "id": "fb77df00-7d99-4ef1-bf90-173143578d5b",
   "metadata": {},
   "source": [
    "3.1  Добавьте в таблицу `recipes` столбец `description_length`, в котором хранится длина описания рецепта из столбца `description`."
   ]
  },
  {
   "cell_type": "code",
   "execution_count": 47,
   "id": "550672b9-cc28-4199-8255-03ae7d0fa9c6",
   "metadata": {},
   "outputs": [
    {
     "data": {
      "text/html": [
       "<div>\n",
       "<style scoped>\n",
       "    .dataframe tbody tr th:only-of-type {\n",
       "        vertical-align: middle;\n",
       "    }\n",
       "\n",
       "    .dataframe tbody tr th {\n",
       "        vertical-align: top;\n",
       "    }\n",
       "\n",
       "    .dataframe thead th {\n",
       "        text-align: right;\n",
       "    }\n",
       "</style>\n",
       "<table border=\"1\" class=\"dataframe\">\n",
       "  <thead>\n",
       "    <tr style=\"text-align: right;\">\n",
       "      <th></th>\n",
       "      <th>description_length</th>\n",
       "      <th>description</th>\n",
       "    </tr>\n",
       "  </thead>\n",
       "  <tbody>\n",
       "    <tr>\n",
       "      <th>0</th>\n",
       "      <td>330</td>\n",
       "      <td>an original recipe created by chef scott meska...</td>\n",
       "    </tr>\n",
       "    <tr>\n",
       "      <th>1</th>\n",
       "      <td>255</td>\n",
       "      <td>my children and their friends ask for my homem...</td>\n",
       "    </tr>\n",
       "    <tr>\n",
       "      <th>2</th>\n",
       "      <td>39</td>\n",
       "      <td>these were so go, it surprised even me.</td>\n",
       "    </tr>\n",
       "    <tr>\n",
       "      <th>3</th>\n",
       "      <td>154</td>\n",
       "      <td>my sister-in-law made these for us at a family...</td>\n",
       "    </tr>\n",
       "    <tr>\n",
       "      <th>4</th>\n",
       "      <td>587</td>\n",
       "      <td>i think a fondue is a very romantic casual din...</td>\n",
       "    </tr>\n",
       "    <tr>\n",
       "      <th>...</th>\n",
       "      <td>...</td>\n",
       "      <td>...</td>\n",
       "    </tr>\n",
       "    <tr>\n",
       "      <th>29995</th>\n",
       "      <td>484</td>\n",
       "      <td>this is based on a french recipe but i changed...</td>\n",
       "    </tr>\n",
       "    <tr>\n",
       "      <th>29996</th>\n",
       "      <td>286</td>\n",
       "      <td>this is a traditional fresh plum cake, thought...</td>\n",
       "    </tr>\n",
       "    <tr>\n",
       "      <th>29997</th>\n",
       "      <td>311</td>\n",
       "      <td>this is a traditional late summer early fall s...</td>\n",
       "    </tr>\n",
       "    <tr>\n",
       "      <th>29998</th>\n",
       "      <td>648</td>\n",
       "      <td>this is a delicious soup that i originally fou...</td>\n",
       "    </tr>\n",
       "    <tr>\n",
       "      <th>29999</th>\n",
       "      <td>125</td>\n",
       "      <td>i've heard of the 'cookies by design' company,...</td>\n",
       "    </tr>\n",
       "  </tbody>\n",
       "</table>\n",
       "<p>30000 rows × 2 columns</p>\n",
       "</div>"
      ],
      "text/plain": [
       "       description_length                                        description\n",
       "0                     330  an original recipe created by chef scott meska...\n",
       "1                     255  my children and their friends ask for my homem...\n",
       "2                      39            these were so go, it surprised even me.\n",
       "3                     154  my sister-in-law made these for us at a family...\n",
       "4                     587  i think a fondue is a very romantic casual din...\n",
       "...                   ...                                                ...\n",
       "29995                 484  this is based on a french recipe but i changed...\n",
       "29996                 286  this is a traditional fresh plum cake, thought...\n",
       "29997                 311  this is a traditional late summer early fall s...\n",
       "29998                 648  this is a delicious soup that i originally fou...\n",
       "29999                 125  i've heard of the 'cookies by design' company,...\n",
       "\n",
       "[30000 rows x 2 columns]"
      ]
     },
     "execution_count": 47,
     "metadata": {},
     "output_type": "execute_result"
    }
   ],
   "source": [
    "recipes2[\"description_length\"] = recipes2['description'].apply(lambda x: len(str(x)))\n",
    "recipes2[[\"description_length\", \"description\"]]"
   ]
  },
  {
   "cell_type": "markdown",
   "id": "093137f5-9807-4b62-8116-ea58ba574123",
   "metadata": {},
   "source": [
    "3.2 Измените название каждого рецепта в таблице `recipes` таким образом, чтобы каждое слово в названии начиналось с прописной буквы."
   ]
  },
  {
   "cell_type": "code",
   "execution_count": 50,
   "id": "fbbfdb89-f14c-4f03-8f19-5fdd55e51bf6",
   "metadata": {},
   "outputs": [
    {
     "data": {
      "text/plain": [
       "0        37\n",
       "1        34\n",
       "2        28\n",
       "3        20\n",
       "4        40\n",
       "         ..\n",
       "29995    44\n",
       "29996    36\n",
       "29997    43\n",
       "29998    11\n",
       "29999    38\n",
       "Name: name, Length: 30000, dtype: int64"
      ]
     },
     "execution_count": 50,
     "metadata": {},
     "output_type": "execute_result"
    }
   ],
   "source": [
    "recipes2['name'] = recipes2['name'].str.title()\n",
    "recipes2[\"name\"]"
   ]
  },
  {
   "cell_type": "markdown",
   "id": "835a0474-ab29-4862-90d0-eba4b61d08a5",
   "metadata": {},
   "source": [
    "3.3 Добавьте в таблицу `recipes` столбец `name_word_count`, в котором хранится количество слов из названии рецепта (считайте, что слова в названии разделяются только пробелами). Обратите внимание, что между словами может располагаться несколько пробелов подряд."
   ]
  },
  {
   "cell_type": "code",
   "execution_count": 57,
   "id": "6e5cf4a1-c3db-4729-941f-634de7676c53",
   "metadata": {},
   "outputs": [
    {
     "name": "stdout",
     "output_type": "stream",
     "text": [
      "       name_word_count  name\n",
      "0                    8    37\n",
      "1                    5    34\n",
      "2                    7    28\n",
      "3                    3    20\n",
      "4                    8    40\n",
      "...                ...   ...\n",
      "29995                8    44\n",
      "29996                4    36\n",
      "29997                5    43\n",
      "29998                2    11\n",
      "29999                7    38\n",
      "\n",
      "[30000 rows x 2 columns]\n"
     ]
    }
   ],
   "source": [
    "recipes2['name_word_count'] = recipes['name'].str.split().str.len()\n",
    "print(recipes2[['name_word_count', 'name']])"
   ]
  },
  {
   "cell_type": "markdown",
   "id": "72ce1e69-64e7-4dc8-8e13-dfe0c3d63d5b",
   "metadata": {},
   "source": [
    "4.1 Посчитайте количество рецептов, представленных каждым из участников (`contributor_id`). Какой участник добавил максимальное кол-во рецептов?"
   ]
  },
  {
   "cell_type": "code",
   "execution_count": 58,
   "id": "2067e343-d113-4a20-9264-4f2631e93fb3",
   "metadata": {},
   "outputs": [
    {
     "name": "stdout",
     "output_type": "stream",
     "text": [
      "Количество рецептов, представленных каждым участником:\n",
      "contributor_id\n",
      "89831      421\n",
      "37449      346\n",
      "37779      345\n",
      "1533       186\n",
      "169430     183\n",
      "          ... \n",
      "1061628      1\n",
      "1076183      1\n",
      "429061       1\n",
      "64032        1\n",
      "186118       1\n",
      "Name: count, Length: 8404, dtype: int64\n",
      "\n",
      "Участник, добавивший максимальное количество рецептов:\n",
      "89831\n"
     ]
    }
   ],
   "source": [
    "recipes_per_contributor = recipes['contributor_id'].value_counts()\n",
    "\n",
    "# Определение участника с максимальным количеством рецептов\n",
    "contributor_with_most_recipes = recipes_per_contributor.idxmax()\n",
    "\n",
    "# Вывод результатов\n",
    "print(\"Количество рецептов, представленных каждым участником:\")\n",
    "print(recipes_per_contributor)\n",
    "print(\"\\nУчастник, добавивший максимальное количество рецептов:\")\n",
    "print(contributor_with_most_recipes)"
   ]
  },
  {
   "cell_type": "markdown",
   "id": "c823d8ec-f64a-4458-bddf-56e7d57026fe",
   "metadata": {},
   "source": [
    "4.2 Посчитайте средний рейтинг к каждому из рецептов. Для скольких рецептов отсутствуют отзывы? Обратите внимание, что отзыв с нулевым рейтингом или не заполненным текстовым описанием не считается отсутствующим."
   ]
  },
  {
   "cell_type": "code",
   "execution_count": 59,
   "id": "3157bf6c-bb3e-4fe3-874d-59af37555961",
   "metadata": {},
   "outputs": [
    {
     "name": "stdout",
     "output_type": "stream",
     "text": [
      "Средний рейтинг к каждому рецепту:\n",
      "recipe_id\n",
      "48        1.000000\n",
      "55        4.750000\n",
      "66        4.944444\n",
      "91        4.750000\n",
      "94        5.000000\n",
      "            ...   \n",
      "536547    5.000000\n",
      "536610    0.000000\n",
      "536728    4.000000\n",
      "536729    4.750000\n",
      "536747    0.000000\n",
      "Name: rating, Length: 28100, dtype: float64\n",
      "\n",
      "Количество рецептов без отзывов:\n",
      "1900\n"
     ]
    }
   ],
   "source": [
    "# Группировка отзывов по recipe_id и вычисление среднего рейтинга\n",
    "average_ratings = reviews.groupby('recipe_id')['rating'].mean()\n",
    "\n",
    "# Подсчет количества рецептов без отзывов\n",
    "no_reviews_count = recipes[~recipes['id'].isin(reviews['recipe_id'])].shape[0]\n",
    "\n",
    "# Вывод результатов\n",
    "print(\"Средний рейтинг к каждому рецепту:\")\n",
    "print(average_ratings)\n",
    "print(\"\\nКоличество рецептов без отзывов:\")\n",
    "print(no_reviews_count)"
   ]
  },
  {
   "cell_type": "markdown",
   "id": "43880c10-e93d-4962-91e9-a5fc018b3a8e",
   "metadata": {},
   "source": [
    "4.3 Посчитайте количество рецептов с разбивкой по годам создания."
   ]
  },
  {
   "cell_type": "code",
   "execution_count": 61,
   "id": "df257af5-c9c9-4445-b901-0ef94b2f096e",
   "metadata": {},
   "outputs": [
    {
     "name": "stdout",
     "output_type": "stream",
     "text": [
      "Количество рецептов с разбивкой по годам создания:\n",
      "year\n",
      "1999     275\n",
      "2000     104\n",
      "2001     589\n",
      "2002    2644\n",
      "2003    2334\n",
      "2004    2153\n",
      "2005    3130\n",
      "2006    3473\n",
      "2007    4429\n",
      "2008    4029\n",
      "2009    2963\n",
      "2010    1538\n",
      "2011     922\n",
      "2012     659\n",
      "2013     490\n",
      "2014     139\n",
      "2015      42\n",
      "2016      24\n",
      "2017      39\n",
      "2018      24\n",
      "Name: count, dtype: int64\n"
     ]
    }
   ],
   "source": [
    "#преобразование столбца submitted в тип datetime\n",
    "recipes['submitted'] = pd.to_datetime(recipes['submitted'])\n",
    "\n",
    "#извлечение года создания рецепта\n",
    "recipes['year'] = recipes['submitted'].dt.year\n",
    "\n",
    "#группировка рецептов по году и подсчет\n",
    "recipes_per_year = recipes['year'].value_counts().sort_index()\n",
    "print(\"Количество рецептов с разбивкой по годам создания:\")\n",
    "print(recipes_per_year)"
   ]
  },
  {
   "cell_type": "markdown",
   "id": "e309bf31-e7c7-4a91-b475-ac885aa49477",
   "metadata": {},
   "source": [
    "5.1 При помощи объединения таблиц, создайте `DataFrame`, состоящий из четырех столбцов: `id`, `name`, `user_id`, `rating`. Рецепты, на которые не оставлен ни один отзыв, должны отсутствовать в полученной таблице. Подтвердите правильность работы вашего кода, выбрав рецепт, не имеющий отзывов, и попытавшись найти строку, соответствующую этому рецепту, в полученном `DataFrame`."
   ]
  },
  {
   "cell_type": "code",
   "execution_count": null,
   "id": "3b053a08-5379-48cb-840d-40a19a8c2520",
   "metadata": {},
   "outputs": [],
   "source": []
  },
  {
   "cell_type": "markdown",
   "id": "def90de9-9453-4eef-831f-48a8c2569728",
   "metadata": {},
   "source": [
    "5.2 При помощи объединения таблиц и группировок, создайте `DataFrame`, состоящий из трех столбцов: `recipe_id`, `name`, `review_count`, где столбец `review_count` содержит кол-во отзывов, оставленных на рецепт `recipe_id`. У рецептов, на которые не оставлен ни один отзыв, в столбце `review_count` должен быть указан 0. Подтвердите правильность работы вашего кода, выбрав рецепт, не имеющий отзывов, и найдя строку, соответствующую этому рецепту, в полученном `DataFrame`."
   ]
  },
  {
   "cell_type": "code",
   "execution_count": null,
   "id": "3b34621b-bc5d-43ac-be6e-11961738bfa5",
   "metadata": {},
   "outputs": [],
   "source": []
  },
  {
   "cell_type": "markdown",
   "id": "738d21d7-341b-4143-90ff-1651ed3589d5",
   "metadata": {},
   "source": [
    "5.3. Выясните, рецепты, добавленные в каком году, имеют наименьший средний рейтинг?"
   ]
  },
  {
   "cell_type": "markdown",
   "id": "dd8c896d-b7f9-408f-bdd0-c5597dfebcc7",
   "metadata": {},
   "source": [
    "6.1 Отсортируйте таблицу в порядке убывания величины столбца `name_word_count` и сохраните результаты выполнения заданий 3.1-3.3 в csv файл. "
   ]
  },
  {
   "cell_type": "markdown",
   "id": "eeab1e1f-2587-4f07-ab85-4ad834101951",
   "metadata": {},
   "source": [
    "6.2 Воспользовавшись `pd.ExcelWriter`, cохраните результаты 5.1 и 5.2 в файл: на лист с названием `Рецепты с оценками` сохраните результаты выполнения 5.1; на лист с названием `Количество отзывов по рецептам` сохраните результаты выполнения 5.2."
   ]
  }
 ],
 "metadata": {
  "kernelspec": {
   "display_name": "Python 3 (ipykernel)",
   "language": "python",
   "name": "python3"
  },
  "language_info": {
   "codemirror_mode": {
    "name": "ipython",
    "version": 3
   },
   "file_extension": ".py",
   "mimetype": "text/x-python",
   "name": "python",
   "nbconvert_exporter": "python",
   "pygments_lexer": "ipython3",
   "version": "3.11.7"
  }
 },
 "nbformat": 4,
 "nbformat_minor": 5
}
